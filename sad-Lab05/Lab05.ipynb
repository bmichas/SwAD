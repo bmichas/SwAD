{
 "cells": [
  {
   "cell_type": "markdown",
   "metadata": {},
   "source": [
    "# Statystyka w Analizie Danych\n",
    "\n",
    "## Laboratorium 5 - algorytm normalizacja, selekcja cech.\n",
    "\n",
    "\n",
    "### Opis\n",
    "Celem laboratorium jest przeprowadzenie normalizacji i selekcji cech.\n",
    "\n",
    "\n",
    "### Zbiór danych\n",
    "\n",
    "Zbiór danych znajduje się w katalogu `dataset/*`. Jest to zmodyfikowany zbiór danych znajdujący się pod adresem: <https://archive.ics.uci.edu/ml/datasets/leaf>.\n",
    "\n",
    "### Przesyłanie zadań\n",
    "\n",
    "Wszystkie pliki należy spakować archiwizatorem **zip** i przesłać za pośrednictwem platformy WIKAMP. Poniżej oczekiwana zawartość archiwum:\n",
    "\n",
    "```\n",
    "+-- 📂 [IMIE.NAZWISKO].zip\n",
    "    +-- 📜 Lab05.ipynb\n",
    "    +-- 📂 dataset\n",
    "        +-- 📜 dataset.npz\n",
    "        +-- 📜 ReadMe.pdf\n",
    "```\n",
    "\n",
    "**Pamiętaj, wyniki powinny być czytelnie opisane oraz zaprezentowane graficznie (jeżeli jest taka możliwość).**\n",
    "\n",
    "Przykład (na podstawie tablicy pomyłek):\n",
    "\n",
    "**Źle** (nie wiadomo co jest poniżej zaprezentowane, kolumny ani wiersze nie są podpisane, nie wiadomo które z nich prezentują predykcje, a które właściwe etykiety):\n",
    "```\n",
    "array([[2, 0, 0],\n",
    "       [0, 0, 1],\n",
    "       [1, 0, 2]])\n",
    "```\n",
    "\n",
    "### Zadanie\n",
    "\n",
    "Należy wykonać następujące czynności w celu realizacji niniejszego zadania:\n",
    "\n",
    "#### Normalizacja\n",
    "* Wczytaj dane.\n",
    "* Znormalizuj dane.\n",
    "* Przeprowadź eksperyment z zastosowaniem algorytmu kNN lub NM dla danych znormalizowanych oraz bez normalizacji.\n",
    "    * W eksperymencie wybierz 5 klas oraz 10 cech.\n",
    "* Przedstaw porównanie wyników klasyfikacji na danych znormalizowanych i bez normalizacji.\n",
    "* Napisz wnioski.\n",
    "\n",
    "**UWAGA: Wykorzystaj gotową implementację kNN [KNeighborsClassifier](https://scikit-learn.org/stable/modules/generated/sklearn.neighbors.KNeighborsClassifier.html)**"
   ]
  },
  {
   "cell_type": "code",
   "execution_count": 1,
   "metadata": {},
   "outputs": [],
   "source": [
    "import numpy as np\n",
    "from sklearn.neighbors import KNeighborsClassifier\n",
    "import matplotlib.pyplot as plt\n",
    "from matplotlib.axes._axes import _log as matplotlib_axes_logger\n",
    "from sklearn.feature_selection import SelectKBest, chi2\n",
    "\n",
    "\n",
    "matplotlib_axes_logger.setLevel('ERROR')\n",
    "\n",
    "\n",
    "with open('dataset.npz', 'rb') as f:\n",
    "    data = np.load(f)\n",
    "    train, test = data['train'], data['test']"
   ]
  },
  {
   "cell_type": "code",
   "execution_count": 2,
   "metadata": {},
   "outputs": [],
   "source": [
    "def normalize(arr):\n",
    "    return ((arr - arr.min())/(arr.max()-arr.min()))"
   ]
  },
  {
   "cell_type": "code",
   "execution_count": 3,
   "metadata": {},
   "outputs": [],
   "source": [
    "def edist(p1, p2, attributes):\n",
    "    p1_new = []\n",
    "    p2_new = []\n",
    "    distance = 0\n",
    "    \n",
    "    for i in attributes:\n",
    "        p1_new.append(p1[i])\n",
    "        p2_new.append(p2[i])\n",
    "    \n",
    "    for i in range(len(p1_new)):\n",
    "        distance += (p1_new[i] - p2_new[i])**2\n",
    "        \n",
    "    return distance**0.5"
   ]
  },
  {
   "cell_type": "code",
   "execution_count": 4,
   "metadata": {},
   "outputs": [],
   "source": [
    "def average(lst):\n",
    "    return sum(lst)/len(lst)"
   ]
  },
  {
   "cell_type": "code",
   "execution_count": 5,
   "metadata": {},
   "outputs": [],
   "source": [
    "def get_mean(train, leaf_classes):\n",
    "    leaves_mean =[]\n",
    "    for c in leaf_classes:\n",
    "        leafLst = train[train[:,0] == c]\n",
    "        oneAtribute = leafLst[:, 0]\n",
    "        avgOneLeaf = []\n",
    "        for i in range(len(leafLst[0])):\n",
    "            oneAtribute = leafLst[:, i]\n",
    "            mean = average(oneAtribute)\n",
    "            avgOneLeaf.append(mean)\n",
    "        leaves_mean.append(avgOneLeaf)\n",
    "    return leaves_mean"
   ]
  },
  {
   "cell_type": "code",
   "execution_count": 6,
   "metadata": {},
   "outputs": [],
   "source": [
    "def chooseClass(classes):\n",
    "    for i in range(len(classes)):\n",
    "        if i == 0:\n",
    "            new_train = np.array(train[train[:,0] == classes[i]])\n",
    "            new_test = np.array(test[test[:,0] == classes[i]])\n",
    "        else:\n",
    "            new_train = np.vstack((new_train,train[train[:,0] == classes[i]]))\n",
    "            new_test = np.vstack((new_test,test[test[:,0] == classes[i]]))\n",
    "    return new_train, new_test"
   ]
  },
  {
   "cell_type": "code",
   "execution_count": 7,
   "metadata": {},
   "outputs": [],
   "source": [
    "def NM(test, attributes, means):\n",
    "    classified = np.copy(test)\n",
    "    for te in range(len(test)):\n",
    "        nearest = 100\n",
    "        for i in range(len(means)):\n",
    "            distance = edist(test[te], means[i], attributes)\n",
    "            if distance < nearest:\n",
    "                nearest = distance\n",
    "                classified[te][0] = means[i][0] \n",
    "    return classified"
   ]
  },
  {
   "cell_type": "code",
   "execution_count": 8,
   "metadata": {},
   "outputs": [],
   "source": [
    "def acc(classified,test):\n",
    "    correct = (test[:,0] == classified[:,0])\n",
    "    correct = np.count_nonzero(correct)\n",
    "    return correct/len(classified)"
   ]
  },
  {
   "cell_type": "markdown",
   "metadata": {},
   "source": [
    "# Wyniki"
   ]
  },
  {
   "cell_type": "code",
   "execution_count": 19,
   "metadata": {},
   "outputs": [],
   "source": [
    "classes=[3,5,6,7,4]\n",
    "\n",
    "newTrain,newTest = chooseClass(classes)\n",
    "normalizeTrain = np.copy(newTrain)\n",
    "normalizeTest = np.copy(newTest)\n",
    "\n",
    "# Bez normalizacji\n",
    "xTrain = newTrain[:,2:]\n",
    "xTest = newTest[:,2:]\n",
    "yTrain = newTrain[:,0]\n",
    "yTest = newTest[:,0]\n",
    "\n",
    "# Normalizacja\n",
    "for i in range(2,16):\n",
    "    toNormalize = normalizeTrain[:,i]\n",
    "    normalizeTrain[:,i] = normalize(toNormalize)\n",
    "       \n",
    "for i in range(2,16):\n",
    "    toNormalize = normalizeTest[:,i]\n",
    "    normalizeTest[:,i] = normalize(toNormalize)\n",
    "\n",
    "xTrainNormalize = normalizeTrain[:,2:]\n",
    "xTestNormalize = normalizeTest[:,2:]\n",
    "yTrainNormalize = normalizeTrain[:,0]\n",
    "yTestNormalize = normalizeTest[:,0]"
   ]
  },
  {
   "cell_type": "markdown",
   "metadata": {},
   "source": [
    "# NM"
   ]
  },
  {
   "cell_type": "code",
   "execution_count": 20,
   "metadata": {
    "scrolled": true
   },
   "outputs": [
    {
     "name": "stdout",
     "output_type": "stream",
     "text": [
      "Accuracy bez normalizacji:  0.7851239669421488\n",
      "Accuracy z normalizacją:  0.8925619834710744\n"
     ]
    }
   ],
   "source": [
    "attributes = [2,3,4,5,6,7,8,9,10,11]\n",
    "\n",
    "means = get_mean(newTrain, classes)\n",
    "classified = NM(newTest,attributes,means)\n",
    "accuracy = acc(classified, newTest)\n",
    "print('Accuracy bez normalizacji: ', accuracy)\n",
    "\n",
    "means = get_mean(normalizeTrain, classes)\n",
    "classified = NM(normalizeTest,attributes,means)\n",
    "accuracy = acc(classified, normalizeTest)\n",
    "print('Accuracy z normalizacją: ', accuracy)"
   ]
  },
  {
   "cell_type": "markdown",
   "metadata": {},
   "source": [
    "# kNN"
   ]
  },
  {
   "cell_type": "code",
   "execution_count": 27,
   "metadata": {},
   "outputs": [
    {
     "name": "stdout",
     "output_type": "stream",
     "text": [
      "Bez normalizacji 10 atrybutów: 0.8347107438016529\n",
      "Po normalizacji 10 atrybutów:  0.7768595041322314\n"
     ]
    }
   ],
   "source": [
    "model = KNeighborsClassifier(n_neighbors=3)\n",
    "model.fit(xTrain[:,2:12], yTrain)\n",
    "print('Bez normalizacji 10 atrybutów:', model.score(xTest[:,2:12],yTest))\n",
    "\n",
    "model = KNeighborsClassifier(n_neighbors=3)\n",
    "model.fit(xTrainNormalize[:,2:12], yTrainNormalize)\n",
    "print('Po normalizacji 10 atrybutów: ', model.score(xTestNormalize[:,2:12],yTestNormalize))"
   ]
  },
  {
   "cell_type": "markdown",
   "metadata": {},
   "source": [
    "#### Selekcja cech\n",
    "Na tym samym podzbiorze danych (co w poprzednim zadaniu).\n",
    "* Przeprowadź selekcję cech (wybierz {2, 5} cech) za pomocą metod poznanych na wykładzie (np. z zastosowaniem współczynnika Fishera) lub istniejących implementacji z biblioteki [scikit-learn](https://scikit-learn.org/stable/modules/feature_selection.html) (np. [SelectKBest](https://scikit-learn.org/stable/modules/generated/sklearn.feature_selection.SelectKBest.html#sklearn.feature_selection.SelectKBest)).\n",
    "* Przeprowadź klasyfikację na wybranych cechach.\n",
    "* Porównaj wyniki klasyfikacji dla różnej liczby cech:\n",
    "    * 10 cech bez normalizacji (wyniki z poprzedniego zadania),\n",
    "    * 10 cech z normalizacją (wyniki z poprzedniego zadania),\n",
    "    * 5 wybranych cech z bez normalizacji,\n",
    "    * 5 wybranych cech z normalizacją,\n",
    "    * 2 wybranych cech z bez normalizacji,\n",
    "    * 2 wybranych cech z normalizacją.\n",
    "* Opisz wyniki i napisz wnioski.\n"
   ]
  },
  {
   "cell_type": "code",
   "execution_count": 32,
   "metadata": {},
   "outputs": [
    {
     "name": "stdout",
     "output_type": "stream",
     "text": [
      "Bez normalizacji 5 atrybutów:  0.8181818181818182\n",
      "Po normalizacji 5 atrybutów:  0.8471074380165289\n"
     ]
    }
   ],
   "source": [
    "model5 = SelectKBest(k=5)\n",
    "xTrain5 = model5.fit_transform(xTrain, yTrain)\n",
    "xTest5 = model5.transform(xTest)\n",
    "\n",
    "knModel5 = KNeighborsClassifier(n_neighbors=3)\n",
    "knModel5.fit(xTrain5, yTrain)\n",
    "\n",
    "print('Bez normalizacji 5 atrybutów: ',knModel5.score(xTest5, yTest))\n",
    "\n",
    "modelN5 = SelectKBest(k=5)\n",
    "xTrainNorm5 = modelN5.fit_transform(xTrainNormalize, yTrainNormalize)\n",
    "xTestNorm5 = modelN5.transform(xTestNormalize)\n",
    "\n",
    "knModelN5 = KNeighborsClassifier(n_neighbors=3)\n",
    "knModelN5.fit(xTrainNorm5, yTrainNormalize)\n",
    "\n",
    "print('Po normalizacji 5 atrybutów: ',knModelN5.score(xTestNorm5,yTestNormalize))"
   ]
  },
  {
   "cell_type": "code",
   "execution_count": 33,
   "metadata": {},
   "outputs": [
    {
     "name": "stdout",
     "output_type": "stream",
     "text": [
      "Bez normalizacji 2 atrybutów:  0.6611570247933884\n",
      "Po normalizacji 2 atrybutów:  0.6322314049586777\n"
     ]
    }
   ],
   "source": [
    "model2 = SelectKBest(k=2)\n",
    "xTrain2 = model2.fit_transform(xTrain, yTrain)\n",
    "xTest2 = model2.transform(xTest)\n",
    "\n",
    "knModel2 = KNeighborsClassifier(n_neighbors=3)\n",
    "knModel2.fit(xTrain2, yTrain)\n",
    "\n",
    "print('Bez normalizacji 2 atrybutów: ',knModel2.score(xTest2, yTest))\n",
    "\n",
    "modelN2 = SelectKBest(k=2)\n",
    "xTrainNorm2 = modelN2.fit_transform(xTrainNormalize, yTrainNormalize)\n",
    "xTestNorm2 = modelN2.transform(xTestNormalize)\n",
    "\n",
    "knModelN2 = KNeighborsClassifier(n_neighbors=3)\n",
    "knModelN2.fit(xTrainNorm2, yTrainNormalize)\n",
    "\n",
    "print('Po normalizacji 2 atrybutów: ',knModelN2.score(xTestNorm2,yTestNormalize))"
   ]
  },
  {
   "cell_type": "markdown",
   "metadata": {},
   "source": [
    "Normalizacja raz działa raz nie dziąła. Gdy sprawdząłem dla różnych klas liści wyniki potrafiły się zmieniać na korzyść. Dla 5 atrybutów normalizacja pomogła jednak dla 2 delikatnie pogorszyła wyniki "
   ]
  }
 ],
 "metadata": {
  "author": {
   "emails": [
    "rsusik@kis.p.lodz.pl"
   ],
   "name": "Robert Susik"
  },
  "kernelspec": {
   "display_name": "Python 3 (ipykernel)",
   "language": "python",
   "name": "python3"
  },
  "language_info": {
   "codemirror_mode": {
    "name": "ipython",
    "version": 3
   },
   "file_extension": ".py",
   "mimetype": "text/x-python",
   "name": "python",
   "nbconvert_exporter": "python",
   "pygments_lexer": "ipython3",
   "version": "3.7.8"
  },
  "toc": {
   "base_numbering": 1,
   "nav_menu": {},
   "number_sections": true,
   "sideBar": true,
   "skip_h1_title": false,
   "title_cell": "Table of Contents",
   "title_sidebar": "Contents",
   "toc_cell": false,
   "toc_position": {},
   "toc_section_display": true,
   "toc_window_display": true
  }
 },
 "nbformat": 4,
 "nbformat_minor": 4
}
