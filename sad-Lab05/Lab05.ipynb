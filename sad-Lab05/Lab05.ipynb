{
 "cells": [
  {
   "cell_type": "markdown",
   "metadata": {},
   "source": [
    "# Statystyka w Analizie Danych\n",
    "\n",
    "## Laboratorium 5 - algorytm normalizacja, selekcja cech.\n",
    "\n",
    "\n",
    "### Opis\n",
    "Celem laboratorium jest przeprowadzenie normalizacji i selekcji cech.\n",
    "\n",
    "\n",
    "### Zbiór danych\n",
    "\n",
    "Zbiór danych znajduje się w katalogu `dataset/*`. Jest to zmodyfikowany zbiór danych znajdujący się pod adresem: <https://archive.ics.uci.edu/ml/datasets/leaf>.\n",
    "\n",
    "### Przesyłanie zadań\n",
    "\n",
    "Wszystkie pliki należy spakować archiwizatorem **zip** i przesłać za pośrednictwem platformy WIKAMP. Poniżej oczekiwana zawartość archiwum:\n",
    "\n",
    "```\n",
    "+-- 📂 [IMIE.NAZWISKO].zip\n",
    "    +-- 📜 Lab05.ipynb\n",
    "    +-- 📂 dataset\n",
    "        +-- 📜 dataset.npz\n",
    "        +-- 📜 ReadMe.pdf\n",
    "```\n",
    "\n",
    "**Pamiętaj, wyniki powinny być czytelnie opisane oraz zaprezentowane graficznie (jeżeli jest taka możliwość).**\n",
    "\n",
    "Przykład (na podstawie tablicy pomyłek):\n",
    "\n",
    "**Źle** (nie wiadomo co jest poniżej zaprezentowane, kolumny ani wiersze nie są podpisane, nie wiadomo które z nich prezentują predykcje, a które właściwe etykiety):\n",
    "```\n",
    "array([[2, 0, 0],\n",
    "       [0, 0, 1],\n",
    "       [1, 0, 2]])\n",
    "```\n",
    "\n",
    "### Zadanie\n",
    "\n",
    "Należy wykonać następujące czynności w celu realizacji niniejszego zadania:\n",
    "\n",
    "#### Normalizacja\n",
    "* Wczytaj dane.\n",
    "* Znormalizuj dane.\n",
    "* Przeprowadź eksperyment z zastosowaniem algorytmu kNN lub NM dla danych znormalizowanych oraz bez normalizacji.\n",
    "    * W eksperymencie wybierz 5 klas oraz 10 cech.\n",
    "* Przedstaw porównanie wyników klasyfikacji na danych znormalizowanych i bez normalizacji.\n",
    "* Napisz wnioski.\n",
    "\n",
    "**UWAGA: Wykorzystaj gotową implementację kNN [KNeighborsClassifier](https://scikit-learn.org/stable/modules/generated/sklearn.neighbors.KNeighborsClassifier.html)**"
   ]
  },
  {
   "cell_type": "code",
   "execution_count": 26,
   "metadata": {},
   "outputs": [],
   "source": [
    "# <<< TUTAJ WYKONAJ Z\n",
    "import numpy as np\n",
    "from sklearn.neighbors import KNeighborsClassifier\n",
    "\n",
    "matplotlib_axes_logger.setLevel('ERROR')\n",
    "\n",
    "\n",
    "with open('dataset.npz', 'rb') as f:\n",
    "    data = np.load(f)\n",
    "    train, test = data['train'], data['test']"
   ]
  },
  {
   "cell_type": "code",
   "execution_count": 27,
   "metadata": {},
   "outputs": [],
   "source": [
    "def normalize(arr):\n",
    "    return ((arr - arr.min())/(arr.max()-arr.min()))"
   ]
  },
  {
   "cell_type": "code",
   "execution_count": null,
   "metadata": {},
   "outputs": [],
   "source": [
    "def chooseClass(classes):\n",
    "    for i in range(len(classes)):\n",
    "        if i == 0:\n",
    "            new_train = np.array(train[train[:,0] == classes[i]])\n",
    "            new_test = np.array(test[test[:,0] == classes[i]])\n",
    "        else:\n",
    "            new_train = np.vstack((new_train,train[train[:,0] == classes[i]]))\n",
    "            new_test = np.vstack((new_test,test[test[:,0] == classes[i]]))\n",
    "    return new_train, new_test"
   ]
  },
  {
   "cell_type": "code",
   "execution_count": 28,
   "metadata": {},
   "outputs": [],
   "source": [
    "origTrain = np.copy(train)\n",
    "origTest = np.copy(test)\n",
    "\n",
    "for i in range(2,16):\n",
    "    toNormalize = train[:,i]\n",
    "    train[:,i] = normalize(toNormalize)\n",
    "    \n",
    "for i in range(2,16):\n",
    "    toNormalize = test[:,i]\n",
    "    test[:,i] = normalize(toNormalize)"
   ]
  },
  {
   "cell_type": "code",
   "execution_count": 29,
   "metadata": {},
   "outputs": [],
   "source": [
    "xTrain = train[:,2:]\n",
    "xTest = test[:,2:]\n",
    "yTrain = train[:,0]\n",
    "yTest = test[:,0]"
   ]
  },
  {
   "cell_type": "code",
   "execution_count": 23,
   "metadata": {},
   "outputs": [
    {
     "data": {
      "text/plain": [
       "array([3.60000000e+01, 1.00000000e+00, 3.25831191e-01, 2.42662236e-02,\n",
       "       7.03507684e-01, 4.54961599e-01, 4.95453968e-01, 1.86266829e-01,\n",
       "       3.85108850e-01, 1.53730769e-01, 3.05450423e-01, 5.12751050e-01,\n",
       "       3.32917414e-01, 3.79754707e-01, 9.76735516e-02, 4.22128651e-01])"
      ]
     },
     "execution_count": 23,
     "metadata": {},
     "output_type": "execute_result"
    }
   ],
   "source": []
  },
  {
   "cell_type": "markdown",
   "metadata": {},
   "source": [
    "#### Selekcja cech\n",
    "Na tym samym podzbiorze danych (co w poprzednim zadaniu).\n",
    "* Przeprowadź selekcję cech (wybierz {2, 5} cech) za pomocą metod poznanych na wykładzie (np. z zastosowaniem współczynnika Fishera) lub istniejących implementacji z biblioteki [scikit-learn](https://scikit-learn.org/stable/modules/feature_selection.html) (np. [SelectKBest](https://scikit-learn.org/stable/modules/generated/sklearn.feature_selection.SelectKBest.html#sklearn.feature_selection.SelectKBest)).\n",
    "* Przeprowadź klasyfikację na wybranych cechach.\n",
    "* Porównaj wyniki klasyfikacji dla różnej liczby cech:\n",
    "    * 10 cech bez normalizacji (wyniki z poprzedniego zadania),\n",
    "    * 10 cech z normalizacją (wyniki z poprzedniego zadania),\n",
    "    * 5 wybranych cech z bez normalizacji,\n",
    "    * 5 wybranych cech z normalizacją,\n",
    "    * 2 wybranych cech z bez normalizacji,\n",
    "    * 2 wybranych cech z normalizacją.\n",
    "* Opisz wyniki i napisz wnioski.\n"
   ]
  },
  {
   "cell_type": "code",
   "execution_count": null,
   "metadata": {},
   "outputs": [],
   "source": [
    "# <<< TUTAJ WYKONAJ ZADANIE >>>"
   ]
  }
 ],
 "metadata": {
  "author": {
   "emails": [
    "rsusik@kis.p.lodz.pl"
   ],
   "name": "Robert Susik"
  },
  "kernelspec": {
   "display_name": "Python 3 (ipykernel)",
   "language": "python",
   "name": "python3"
  },
  "language_info": {
   "codemirror_mode": {
    "name": "ipython",
    "version": 3
   },
   "file_extension": ".py",
   "mimetype": "text/x-python",
   "name": "python",
   "nbconvert_exporter": "python",
   "pygments_lexer": "ipython3",
   "version": "3.9.2"
  },
  "toc": {
   "base_numbering": 1,
   "nav_menu": {},
   "number_sections": true,
   "sideBar": true,
   "skip_h1_title": false,
   "title_cell": "Table of Contents",
   "title_sidebar": "Contents",
   "toc_cell": false,
   "toc_position": {},
   "toc_section_display": true,
   "toc_window_display": true
  }
 },
 "nbformat": 4,
 "nbformat_minor": 4
}
