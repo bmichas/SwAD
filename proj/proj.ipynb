{
 "cells": [
  {
   "cell_type": "code",
   "execution_count": 1,
   "id": "63d80d2d",
   "metadata": {},
   "outputs": [],
   "source": [
    "import numpy as np\n",
    "import matplotlib.pyplot as plt\n",
    "import pandas as pd\n",
    "from sklearn.model_selection import train_test_split\n",
    "from sklearn.ensemble import ExtraTreesClassifier\n",
    "from sklearn.neighbors import KNeighborsClassifier\n",
    "from sklearn.neighbors import NearestCentroid\n",
    "from sklearn import metrics"
   ]
  },
  {
   "cell_type": "code",
   "execution_count": 2,
   "id": "8d1276c9",
   "metadata": {},
   "outputs": [],
   "source": [
    "colNames = ['Elevation', \n",
    "            'Aspect', \n",
    "            'Slope',\n",
    "            'Horizontal_Distance_To_Hydrology',\n",
    "            'Vertical_Distance_To_Hydrology',\n",
    "            'Horizontal_Distance_To_Roadways',\n",
    "            'illshade_9am',\n",
    "            'Hillshade_Noon',\n",
    "            'Hillshade_3pm',\n",
    "            'Horizontal_Distance_To_Fire_Points',\n",
    "            'Wilderness_Area1',\n",
    "            'Wilderness_Area2',\n",
    "            'Wilderness_Area3',\n",
    "            'Wilderness_Area4']\n",
    "\n",
    "for i in range(40):\n",
    "    colNames.append('Soil_Type'+ str(i+1))\n",
    "colNames.append('Cover_Type')"
   ]
  },
  {
   "cell_type": "code",
   "execution_count": 3,
   "id": "193fe6cb",
   "metadata": {},
   "outputs": [],
   "source": [
    "def normalize(matrix):\n",
    "    return (matrix - np.min(matrix))/(np.max(matrix) - np.min(matrix))\n",
    "\n",
    "def standarize(matrix):\n",
    "    return (matrix - np.mean(matrix))/(np.std(matrix))"
   ]
  },
  {
   "cell_type": "code",
   "execution_count": 4,
   "id": "9af42a9d",
   "metadata": {
    "scrolled": false
   },
   "outputs": [
    {
     "data": {
      "text/html": [
       "<div>\n",
       "<style scoped>\n",
       "    .dataframe tbody tr th:only-of-type {\n",
       "        vertical-align: middle;\n",
       "    }\n",
       "\n",
       "    .dataframe tbody tr th {\n",
       "        vertical-align: top;\n",
       "    }\n",
       "\n",
       "    .dataframe thead th {\n",
       "        text-align: right;\n",
       "    }\n",
       "</style>\n",
       "<table border=\"1\" class=\"dataframe\">\n",
       "  <thead>\n",
       "    <tr style=\"text-align: right;\">\n",
       "      <th></th>\n",
       "      <th>Elevation</th>\n",
       "      <th>Aspect</th>\n",
       "      <th>Slope</th>\n",
       "      <th>Horizontal_Distance_To_Hydrology</th>\n",
       "      <th>Vertical_Distance_To_Hydrology</th>\n",
       "      <th>Horizontal_Distance_To_Roadways</th>\n",
       "      <th>illshade_9am</th>\n",
       "      <th>Hillshade_Noon</th>\n",
       "      <th>Hillshade_3pm</th>\n",
       "      <th>Horizontal_Distance_To_Fire_Points</th>\n",
       "      <th>...</th>\n",
       "      <th>Soil_Type32</th>\n",
       "      <th>Soil_Type33</th>\n",
       "      <th>Soil_Type34</th>\n",
       "      <th>Soil_Type35</th>\n",
       "      <th>Soil_Type36</th>\n",
       "      <th>Soil_Type37</th>\n",
       "      <th>Soil_Type38</th>\n",
       "      <th>Soil_Type39</th>\n",
       "      <th>Soil_Type40</th>\n",
       "      <th>Cover_Type</th>\n",
       "    </tr>\n",
       "  </thead>\n",
       "  <tbody>\n",
       "    <tr>\n",
       "      <th>0</th>\n",
       "      <td>2596</td>\n",
       "      <td>51</td>\n",
       "      <td>3</td>\n",
       "      <td>258</td>\n",
       "      <td>0</td>\n",
       "      <td>510</td>\n",
       "      <td>221</td>\n",
       "      <td>232</td>\n",
       "      <td>148</td>\n",
       "      <td>6279</td>\n",
       "      <td>...</td>\n",
       "      <td>0</td>\n",
       "      <td>0</td>\n",
       "      <td>0</td>\n",
       "      <td>0</td>\n",
       "      <td>0</td>\n",
       "      <td>0</td>\n",
       "      <td>0</td>\n",
       "      <td>0</td>\n",
       "      <td>0</td>\n",
       "      <td>5</td>\n",
       "    </tr>\n",
       "    <tr>\n",
       "      <th>1</th>\n",
       "      <td>2590</td>\n",
       "      <td>56</td>\n",
       "      <td>2</td>\n",
       "      <td>212</td>\n",
       "      <td>-6</td>\n",
       "      <td>390</td>\n",
       "      <td>220</td>\n",
       "      <td>235</td>\n",
       "      <td>151</td>\n",
       "      <td>6225</td>\n",
       "      <td>...</td>\n",
       "      <td>0</td>\n",
       "      <td>0</td>\n",
       "      <td>0</td>\n",
       "      <td>0</td>\n",
       "      <td>0</td>\n",
       "      <td>0</td>\n",
       "      <td>0</td>\n",
       "      <td>0</td>\n",
       "      <td>0</td>\n",
       "      <td>5</td>\n",
       "    </tr>\n",
       "    <tr>\n",
       "      <th>2</th>\n",
       "      <td>2804</td>\n",
       "      <td>139</td>\n",
       "      <td>9</td>\n",
       "      <td>268</td>\n",
       "      <td>65</td>\n",
       "      <td>3180</td>\n",
       "      <td>234</td>\n",
       "      <td>238</td>\n",
       "      <td>135</td>\n",
       "      <td>6121</td>\n",
       "      <td>...</td>\n",
       "      <td>0</td>\n",
       "      <td>0</td>\n",
       "      <td>0</td>\n",
       "      <td>0</td>\n",
       "      <td>0</td>\n",
       "      <td>0</td>\n",
       "      <td>0</td>\n",
       "      <td>0</td>\n",
       "      <td>0</td>\n",
       "      <td>2</td>\n",
       "    </tr>\n",
       "    <tr>\n",
       "      <th>3</th>\n",
       "      <td>2785</td>\n",
       "      <td>155</td>\n",
       "      <td>18</td>\n",
       "      <td>242</td>\n",
       "      <td>118</td>\n",
       "      <td>3090</td>\n",
       "      <td>238</td>\n",
       "      <td>238</td>\n",
       "      <td>122</td>\n",
       "      <td>6211</td>\n",
       "      <td>...</td>\n",
       "      <td>0</td>\n",
       "      <td>0</td>\n",
       "      <td>0</td>\n",
       "      <td>0</td>\n",
       "      <td>0</td>\n",
       "      <td>0</td>\n",
       "      <td>0</td>\n",
       "      <td>0</td>\n",
       "      <td>0</td>\n",
       "      <td>2</td>\n",
       "    </tr>\n",
       "    <tr>\n",
       "      <th>4</th>\n",
       "      <td>2595</td>\n",
       "      <td>45</td>\n",
       "      <td>2</td>\n",
       "      <td>153</td>\n",
       "      <td>-1</td>\n",
       "      <td>391</td>\n",
       "      <td>220</td>\n",
       "      <td>234</td>\n",
       "      <td>150</td>\n",
       "      <td>6172</td>\n",
       "      <td>...</td>\n",
       "      <td>0</td>\n",
       "      <td>0</td>\n",
       "      <td>0</td>\n",
       "      <td>0</td>\n",
       "      <td>0</td>\n",
       "      <td>0</td>\n",
       "      <td>0</td>\n",
       "      <td>0</td>\n",
       "      <td>0</td>\n",
       "      <td>5</td>\n",
       "    </tr>\n",
       "    <tr>\n",
       "      <th>...</th>\n",
       "      <td>...</td>\n",
       "      <td>...</td>\n",
       "      <td>...</td>\n",
       "      <td>...</td>\n",
       "      <td>...</td>\n",
       "      <td>...</td>\n",
       "      <td>...</td>\n",
       "      <td>...</td>\n",
       "      <td>...</td>\n",
       "      <td>...</td>\n",
       "      <td>...</td>\n",
       "      <td>...</td>\n",
       "      <td>...</td>\n",
       "      <td>...</td>\n",
       "      <td>...</td>\n",
       "      <td>...</td>\n",
       "      <td>...</td>\n",
       "      <td>...</td>\n",
       "      <td>...</td>\n",
       "      <td>...</td>\n",
       "      <td>...</td>\n",
       "    </tr>\n",
       "    <tr>\n",
       "      <th>581007</th>\n",
       "      <td>2396</td>\n",
       "      <td>153</td>\n",
       "      <td>20</td>\n",
       "      <td>85</td>\n",
       "      <td>17</td>\n",
       "      <td>108</td>\n",
       "      <td>240</td>\n",
       "      <td>237</td>\n",
       "      <td>118</td>\n",
       "      <td>837</td>\n",
       "      <td>...</td>\n",
       "      <td>0</td>\n",
       "      <td>0</td>\n",
       "      <td>0</td>\n",
       "      <td>0</td>\n",
       "      <td>0</td>\n",
       "      <td>0</td>\n",
       "      <td>0</td>\n",
       "      <td>0</td>\n",
       "      <td>0</td>\n",
       "      <td>3</td>\n",
       "    </tr>\n",
       "    <tr>\n",
       "      <th>581008</th>\n",
       "      <td>2391</td>\n",
       "      <td>152</td>\n",
       "      <td>19</td>\n",
       "      <td>67</td>\n",
       "      <td>12</td>\n",
       "      <td>95</td>\n",
       "      <td>240</td>\n",
       "      <td>237</td>\n",
       "      <td>119</td>\n",
       "      <td>845</td>\n",
       "      <td>...</td>\n",
       "      <td>0</td>\n",
       "      <td>0</td>\n",
       "      <td>0</td>\n",
       "      <td>0</td>\n",
       "      <td>0</td>\n",
       "      <td>0</td>\n",
       "      <td>0</td>\n",
       "      <td>0</td>\n",
       "      <td>0</td>\n",
       "      <td>3</td>\n",
       "    </tr>\n",
       "    <tr>\n",
       "      <th>581009</th>\n",
       "      <td>2386</td>\n",
       "      <td>159</td>\n",
       "      <td>17</td>\n",
       "      <td>60</td>\n",
       "      <td>7</td>\n",
       "      <td>90</td>\n",
       "      <td>236</td>\n",
       "      <td>241</td>\n",
       "      <td>130</td>\n",
       "      <td>854</td>\n",
       "      <td>...</td>\n",
       "      <td>0</td>\n",
       "      <td>0</td>\n",
       "      <td>0</td>\n",
       "      <td>0</td>\n",
       "      <td>0</td>\n",
       "      <td>0</td>\n",
       "      <td>0</td>\n",
       "      <td>0</td>\n",
       "      <td>0</td>\n",
       "      <td>3</td>\n",
       "    </tr>\n",
       "    <tr>\n",
       "      <th>581010</th>\n",
       "      <td>2384</td>\n",
       "      <td>170</td>\n",
       "      <td>15</td>\n",
       "      <td>60</td>\n",
       "      <td>5</td>\n",
       "      <td>90</td>\n",
       "      <td>230</td>\n",
       "      <td>245</td>\n",
       "      <td>143</td>\n",
       "      <td>864</td>\n",
       "      <td>...</td>\n",
       "      <td>0</td>\n",
       "      <td>0</td>\n",
       "      <td>0</td>\n",
       "      <td>0</td>\n",
       "      <td>0</td>\n",
       "      <td>0</td>\n",
       "      <td>0</td>\n",
       "      <td>0</td>\n",
       "      <td>0</td>\n",
       "      <td>3</td>\n",
       "    </tr>\n",
       "    <tr>\n",
       "      <th>581011</th>\n",
       "      <td>2383</td>\n",
       "      <td>165</td>\n",
       "      <td>13</td>\n",
       "      <td>60</td>\n",
       "      <td>4</td>\n",
       "      <td>67</td>\n",
       "      <td>231</td>\n",
       "      <td>244</td>\n",
       "      <td>141</td>\n",
       "      <td>875</td>\n",
       "      <td>...</td>\n",
       "      <td>0</td>\n",
       "      <td>0</td>\n",
       "      <td>0</td>\n",
       "      <td>0</td>\n",
       "      <td>0</td>\n",
       "      <td>0</td>\n",
       "      <td>0</td>\n",
       "      <td>0</td>\n",
       "      <td>0</td>\n",
       "      <td>3</td>\n",
       "    </tr>\n",
       "  </tbody>\n",
       "</table>\n",
       "<p>581012 rows × 55 columns</p>\n",
       "</div>"
      ],
      "text/plain": [
       "        Elevation  Aspect  Slope  Horizontal_Distance_To_Hydrology  \\\n",
       "0            2596      51      3                               258   \n",
       "1            2590      56      2                               212   \n",
       "2            2804     139      9                               268   \n",
       "3            2785     155     18                               242   \n",
       "4            2595      45      2                               153   \n",
       "...           ...     ...    ...                               ...   \n",
       "581007       2396     153     20                                85   \n",
       "581008       2391     152     19                                67   \n",
       "581009       2386     159     17                                60   \n",
       "581010       2384     170     15                                60   \n",
       "581011       2383     165     13                                60   \n",
       "\n",
       "        Vertical_Distance_To_Hydrology  Horizontal_Distance_To_Roadways  \\\n",
       "0                                    0                              510   \n",
       "1                                   -6                              390   \n",
       "2                                   65                             3180   \n",
       "3                                  118                             3090   \n",
       "4                                   -1                              391   \n",
       "...                                ...                              ...   \n",
       "581007                              17                              108   \n",
       "581008                              12                               95   \n",
       "581009                               7                               90   \n",
       "581010                               5                               90   \n",
       "581011                               4                               67   \n",
       "\n",
       "        illshade_9am  Hillshade_Noon  Hillshade_3pm  \\\n",
       "0                221             232            148   \n",
       "1                220             235            151   \n",
       "2                234             238            135   \n",
       "3                238             238            122   \n",
       "4                220             234            150   \n",
       "...              ...             ...            ...   \n",
       "581007           240             237            118   \n",
       "581008           240             237            119   \n",
       "581009           236             241            130   \n",
       "581010           230             245            143   \n",
       "581011           231             244            141   \n",
       "\n",
       "        Horizontal_Distance_To_Fire_Points  ...  Soil_Type32  Soil_Type33  \\\n",
       "0                                     6279  ...            0            0   \n",
       "1                                     6225  ...            0            0   \n",
       "2                                     6121  ...            0            0   \n",
       "3                                     6211  ...            0            0   \n",
       "4                                     6172  ...            0            0   \n",
       "...                                    ...  ...          ...          ...   \n",
       "581007                                 837  ...            0            0   \n",
       "581008                                 845  ...            0            0   \n",
       "581009                                 854  ...            0            0   \n",
       "581010                                 864  ...            0            0   \n",
       "581011                                 875  ...            0            0   \n",
       "\n",
       "        Soil_Type34  Soil_Type35  Soil_Type36  Soil_Type37  Soil_Type38  \\\n",
       "0                 0            0            0            0            0   \n",
       "1                 0            0            0            0            0   \n",
       "2                 0            0            0            0            0   \n",
       "3                 0            0            0            0            0   \n",
       "4                 0            0            0            0            0   \n",
       "...             ...          ...          ...          ...          ...   \n",
       "581007            0            0            0            0            0   \n",
       "581008            0            0            0            0            0   \n",
       "581009            0            0            0            0            0   \n",
       "581010            0            0            0            0            0   \n",
       "581011            0            0            0            0            0   \n",
       "\n",
       "        Soil_Type39  Soil_Type40  Cover_Type  \n",
       "0                 0            0           5  \n",
       "1                 0            0           5  \n",
       "2                 0            0           2  \n",
       "3                 0            0           2  \n",
       "4                 0            0           5  \n",
       "...             ...          ...         ...  \n",
       "581007            0            0           3  \n",
       "581008            0            0           3  \n",
       "581009            0            0           3  \n",
       "581010            0            0           3  \n",
       "581011            0            0           3  \n",
       "\n",
       "[581012 rows x 55 columns]"
      ]
     },
     "execution_count": 4,
     "metadata": {},
     "output_type": "execute_result"
    }
   ],
   "source": [
    "df = pd.read_csv(\"covtype.data\", names = colNames)\n",
    "df"
   ]
  },
  {
   "cell_type": "markdown",
   "id": "b27d81e4",
   "metadata": {},
   "source": [
    "Zbiór danych posiada 55 kolum gdzie pierwsze 10 kolumn zaweirają dane liczobe z pewnych przediałów natomiast pozostałe kolumny sa do dane kategoryczne.\n",
    "    \n",
    "    12 cech/atrybutów\n",
    "    7 klas"
   ]
  },
  {
   "cell_type": "code",
   "execution_count": 5,
   "id": "df3bed44",
   "metadata": {
    "scrolled": false
   },
   "outputs": [
    {
     "data": {
      "text/plain": [
       "Elevation                             0\n",
       "Aspect                                0\n",
       "Slope                                 0\n",
       "Horizontal_Distance_To_Hydrology      0\n",
       "Vertical_Distance_To_Hydrology        0\n",
       "Horizontal_Distance_To_Roadways       0\n",
       "illshade_9am                          0\n",
       "Hillshade_Noon                        0\n",
       "Hillshade_3pm                         0\n",
       "Horizontal_Distance_To_Fire_Points    0\n",
       "Wilderness_Area1                      0\n",
       "Wilderness_Area2                      0\n",
       "Wilderness_Area3                      0\n",
       "Wilderness_Area4                      0\n",
       "Soil_Type1                            0\n",
       "Soil_Type2                            0\n",
       "Soil_Type3                            0\n",
       "Soil_Type4                            0\n",
       "Soil_Type5                            0\n",
       "Soil_Type6                            0\n",
       "Soil_Type7                            0\n",
       "Soil_Type8                            0\n",
       "Soil_Type9                            0\n",
       "Soil_Type10                           0\n",
       "Soil_Type11                           0\n",
       "Soil_Type12                           0\n",
       "Soil_Type13                           0\n",
       "Soil_Type14                           0\n",
       "Soil_Type15                           0\n",
       "Soil_Type16                           0\n",
       "Soil_Type17                           0\n",
       "Soil_Type18                           0\n",
       "Soil_Type19                           0\n",
       "Soil_Type20                           0\n",
       "Soil_Type21                           0\n",
       "Soil_Type22                           0\n",
       "Soil_Type23                           0\n",
       "Soil_Type24                           0\n",
       "Soil_Type25                           0\n",
       "Soil_Type26                           0\n",
       "Soil_Type27                           0\n",
       "Soil_Type28                           0\n",
       "Soil_Type29                           0\n",
       "Soil_Type30                           0\n",
       "Soil_Type31                           0\n",
       "Soil_Type32                           0\n",
       "Soil_Type33                           0\n",
       "Soil_Type34                           0\n",
       "Soil_Type35                           0\n",
       "Soil_Type36                           0\n",
       "Soil_Type37                           0\n",
       "Soil_Type38                           0\n",
       "Soil_Type39                           0\n",
       "Soil_Type40                           0\n",
       "Cover_Type                            0\n",
       "dtype: int64"
      ]
     },
     "execution_count": 5,
     "metadata": {},
     "output_type": "execute_result"
    }
   ],
   "source": [
    "df.isna().sum()"
   ]
  },
  {
   "cell_type": "code",
   "execution_count": 6,
   "id": "c5b8c40a",
   "metadata": {},
   "outputs": [],
   "source": [
    "dfToNorm = df[['Elevation', \n",
    "            'Aspect', \n",
    "            'Slope',\n",
    "            'Horizontal_Distance_To_Hydrology',\n",
    "            'Vertical_Distance_To_Hydrology',\n",
    "            'Horizontal_Distance_To_Roadways',\n",
    "            'illshade_9am',\n",
    "            'Hillshade_Noon',\n",
    "            'Hillshade_3pm',\n",
    "            'Horizontal_Distance_To_Fire_Points',]]\n",
    "\n",
    "colNamesNoNorm = ['Wilderness_Area1',\n",
    "            'Wilderness_Area2',\n",
    "            'Wilderness_Area3',\n",
    "            'Wilderness_Area4']\n",
    "for i in range(40):\n",
    "    colNamesNoNorm.append('Soil_Type'+ str(i+1))\n",
    "colNamesNoNorm.append('Cover_Type')\n",
    "\n",
    "noNorm = df[colNamesNoNorm]"
   ]
  },
  {
   "cell_type": "code",
   "execution_count": 7,
   "id": "77a1d2d8",
   "metadata": {},
   "outputs": [],
   "source": [
    "normalizedDataNp = normalize(dfToNorm.to_numpy())\n",
    "noNormNp  = noNorm.to_numpy()\n",
    "data = np.concatenate((normalizedDataNp, noNormNp), axis=1)\n",
    "\n",
    "y = data[:,-1]\n",
    "X = data[:,[i for i in range(len(data[0]) - 1)]]\n",
    "\n",
    "X_train, X_test, y_train, y_test = train_test_split(X, y, test_size=0.2, random_state=244828)"
   ]
  },
  {
   "cell_type": "code",
   "execution_count": 8,
   "id": "6b0d8fe5",
   "metadata": {},
   "outputs": [
    {
     "name": "stdout",
     "output_type": "stream",
     "text": [
      "Spruce/Fir => 211840\n",
      "Lodgepole Pine => 283301\n",
      "Ponderosa Pine => 35754\n",
      "Cottonwood/Willow => 2747\n",
      "Aspen => 9493\n",
      "Douglas-fir => 17367\n",
      "Krummholz => 20510\n"
     ]
    }
   ],
   "source": [
    "classNames = ['Spruce/Fir','Lodgepole Pine','Ponderosa Pine','Cottonwood/Willow','Aspen','Douglas-fir','Krummholz']\n",
    "for i in range(7):\n",
    "    print(classNames[i],\"=>\" ,np.count_nonzero(y == (i+1)))"
   ]
  },
  {
   "cell_type": "code",
   "execution_count": 9,
   "id": "5d397b16",
   "metadata": {
    "scrolled": true
   },
   "outputs": [
    {
     "data": {
      "image/png": "[encoded data removed]",
      "text/plain": [
       "<Figure size 432x288 with 1 Axes>"
      ]
     },
     "metadata": {
      "needs_background": "light"
     },
     "output_type": "display_data"
    }
   ],
   "source": [
    "X = df.iloc[:,0:53]\n",
    "y = df.iloc[:,-1]    \n",
    "model = ExtraTreesClassifier()\n",
    "model.fit(X,y)\n",
    "feat_importances = pd.Series(model.feature_importances_, index=X.columns)\n",
    "feat_importances.nlargest(10).plot(kind='barh')\n",
    "plt.show()"
   ]
  },
  {
   "cell_type": "code",
   "execution_count": 10,
   "id": "1330810c",
   "metadata": {},
   "outputs": [],
   "source": [
    "best = [colNames.index('Elevation'),\n",
    "        colNames.index('Horizontal_Distance_To_Roadways'),\n",
    "        colNames.index('Horizontal_Distance_To_Fire_Points')]"
   ]
  },
  {
   "cell_type": "code",
   "execution_count": 11,
   "id": "8189f100",
   "metadata": {},
   "outputs": [],
   "source": [
    "X_train_best = X_train[:,best]\n",
    "X_test_best = X_test[:,best]"
   ]
  },
  {
   "cell_type": "markdown",
   "id": "cc37d329",
   "metadata": {},
   "source": [
    "# NN best"
   ]
  },
  {
   "cell_type": "code",
   "execution_count": 12,
   "id": "41ec71d3",
   "metadata": {},
   "outputs": [
    {
     "name": "stdout",
     "output_type": "stream",
     "text": [
      "Accuracy          |0.7777940328562946\n",
      "bAccuracy         |0.6548687534768435\n"
     ]
    }
   ],
   "source": [
    "nNeigh = KNeighborsClassifier(n_neighbors=1)\n",
    "nNeigh.fit(X_train_best, y_train)\n",
    "nNeighPred = nNeigh.predict(X_test_best)\n",
    "my_acc = metrics.accuracy_score(nNeighPred, y_test)\n",
    "my_bAcc = metrics.balanced_accuracy_score(nNeighPred, y_test)\n",
    "print(f'Accuracy          |{my_acc}')\n",
    "print(f'bAccuracy         |{my_bAcc}')"
   ]
  },
  {
   "cell_type": "markdown",
   "id": "98cdf7c0",
   "metadata": {},
   "source": [
    "# kNN best"
   ]
  },
  {
   "cell_type": "code",
   "execution_count": 13,
   "id": "697d125c",
   "metadata": {
    "scrolled": true
   },
   "outputs": [
    {
     "name": "stdout",
     "output_type": "stream",
     "text": [
      "Accuracy          |0.8294536285638064\n",
      "bAccuracy         |0.7622527587704534\n"
     ]
    }
   ],
   "source": [
    "kNeigh = KNeighborsClassifier(n_neighbors=7)\n",
    "kNeigh.fit(X_train_best, y_train)\n",
    "kNeighPred = kNeigh.predict(X_test_best)\n",
    "my_acc = metrics.accuracy_score(kNeighPred, y_test)\n",
    "my_bAcc = metrics.balanced_accuracy_score(kNeighPred, y_test)\n",
    "print(f'Accuracy          |{my_acc}')\n",
    "print(f'bAccuracy         |{my_bAcc}')"
   ]
  },
  {
   "cell_type": "markdown",
   "id": "bab03109",
   "metadata": {},
   "source": [
    "# NM best"
   ]
  },
  {
   "cell_type": "code",
   "execution_count": 14,
   "id": "aa170382",
   "metadata": {},
   "outputs": [
    {
     "name": "stdout",
     "output_type": "stream",
     "text": [
      "Accuracy          |0.1912084885932377\n",
      "bAccuracy         |0.19750217690646488\n"
     ]
    }
   ],
   "source": [
    "nM = NearestCentroid()\n",
    "nM.fit(X_train_best, y_train)\n",
    "nMPred = nM.predict(X_test_best)\n",
    "my_acc = metrics.accuracy_score(nMPred, y_test)\n",
    "my_bAcc = metrics.balanced_accuracy_score(nMPred, y_test)\n",
    "print(f'Accuracy          |{my_acc}')\n",
    "print(f'bAccuracy         |{my_bAcc}')"
   ]
  },
  {
   "cell_type": "markdown",
   "id": "acd2c832",
   "metadata": {},
   "source": [
    "# NN all"
   ]
  },
  {
   "cell_type": "code",
   "execution_count": 15,
   "id": "98d6bf66",
   "metadata": {},
   "outputs": [
    {
     "name": "stdout",
     "output_type": "stream",
     "text": [
      "Accuracy          |0.9685722399593815\n",
      "bAccuracy         |0.9459197304154027\n"
     ]
    }
   ],
   "source": [
    "nNeigh = KNeighborsClassifier(n_neighbors=1)\n",
    "nNeigh.fit(X_train, y_train)\n",
    "nNeighPred = nNeigh.predict(X_test)\n",
    "my_acc = metrics.accuracy_score(nNeighPred, y_test)\n",
    "my_bAcc = metrics.balanced_accuracy_score(nNeighPred, y_test)\n",
    "print(f'Accuracy          |{my_acc}')\n",
    "print(f'bAccuracy         |{my_bAcc}')"
   ]
  },
  {
   "cell_type": "markdown",
   "id": "64031ea6",
   "metadata": {},
   "source": [
    "# kNN all"
   ]
  },
  {
   "cell_type": "code",
   "execution_count": 16,
   "id": "b1b02283",
   "metadata": {},
   "outputs": [
    {
     "name": "stdout",
     "output_type": "stream",
     "text": [
      "Accuracy          |0.9685894512189874\n",
      "bAccuracy         |0.946242301271159\n"
     ]
    }
   ],
   "source": [
    "kNeigh = KNeighborsClassifier(n_neighbors=7)\n",
    "kNeigh.fit(X_train, y_train)\n",
    "kNeighPred = kNeigh.predict(X_test)\n",
    "my_acc = metrics.accuracy_score(kNeighPred, y_test)\n",
    "my_bAcc = metrics.balanced_accuracy_score(kNeighPred, y_test)\n",
    "print(f'Accuracy          |{my_acc}')\n",
    "print(f'bAccuracy         |{my_bAcc}')"
   ]
  },
  {
   "cell_type": "markdown",
   "id": "fef63fb1",
   "metadata": {},
   "source": [
    "# nM all"
   ]
  },
  {
   "cell_type": "code",
   "execution_count": 17,
   "id": "791c9813",
   "metadata": {},
   "outputs": [
    {
     "name": "stdout",
     "output_type": "stream",
     "text": [
      "Accuracy          |0.3773138387132862\n",
      "bAccuracy         |0.32786971376772395\n"
     ]
    },
    {
     "name": "stderr",
     "output_type": "stream",
     "text": [
      "c:\\users\\weap\\appdata\\local\\programs\\python\\python37\\lib\\site-packages\\sklearn\\metrics\\_classification.py:1987: UserWarning: y_pred contains classes not in y_true\n",
      "  warnings.warn(\"y_pred contains classes not in y_true\")\n"
     ]
    }
   ],
   "source": [
    "nM = NearestCentroid()\n",
    "nM.fit(X_train, y_train)\n",
    "nMPred = nM.predict(X_test)\n",
    "my_acc = metrics.accuracy_score(nMPred, y_test)\n",
    "my_bAcc = metrics.balanced_accuracy_score(nMPred, y_test)\n",
    "print(f'Accuracy          |{my_acc}')\n",
    "print(f'bAccuracy         |{my_bAcc}')"
   ]
  },
  {
   "cell_type": "markdown",
   "id": "4329f4e3",
   "metadata": {},
   "source": [
    "# Na podstawie analizy klasyfikatorów wybieram kNN i 3 najlepsze cechy"
   ]
  },
  {
   "cell_type": "code",
   "execution_count": 18,
   "id": "1c85b817",
   "metadata": {},
   "outputs": [
    {
     "name": "stdout",
     "output_type": "stream",
     "text": [
      "Accuracy          |0.8294536285638064\n",
      "bAccuracy         |0.7622527587704534\n"
     ]
    },
    {
     "data": {
      "text/plain": [
       "[Text(0, 0, 'Spruce/Fir'),\n",
       " Text(0, 1, 'Lodgepole Pine'),\n",
       " Text(0, 2, 'Ponderosa Pine'),\n",
       " Text(0, 3, 'Cottonwood/Willow'),\n",
       " Text(0, 4, 'Aspen'),\n",
       " Text(0, 5, 'Douglas-fir'),\n",
       " Text(0, 6, 'Krummholz')]"
      ]
     },
     "execution_count": 18,
     "metadata": {},
     "output_type": "execute_result"
    },
    {
     "data": {
      "image/png": "[encoded data removed]",
      "text/plain": [
       "<Figure size 1440x1440 with 2 Axes>"
      ]
     },
     "metadata": {
      "needs_background": "light"
     },
     "output_type": "display_data"
    }
   ],
   "source": [
    "fig, ax = plt.subplots(1, 1,figsize=(20,20))\n",
    "kNeigh = KNeighborsClassifier(n_neighbors=7)\n",
    "kNeigh.fit(X_train_best, y_train)\n",
    "kNeighPred = kNeigh.predict(X_test_best)\n",
    "my_acc = metrics.accuracy_score(kNeighPred, y_test)\n",
    "my_bAcc = metrics.balanced_accuracy_score(kNeighPred, y_test)\n",
    "print(f'Accuracy          |{my_acc}')\n",
    "print(f'bAccuracy         |{my_bAcc}') \n",
    "cm = metrics.confusion_matrix(y_test, kNeighPred)\n",
    "disp = metrics.ConfusionMatrixDisplay(confusion_matrix=cm)\n",
    "disp.plot(ax = ax) \n",
    "disp.ax_.set_title('knn')\n",
    "disp.ax_.set_ylabel('True')\n",
    "disp.ax_.set_xlabel('Pred')\n",
    "disp.ax_.set_xticklabels(['Spruce/Fir','Lodgepole Pine','Ponderosa Pine','Cottonwood/Willow','Aspen','Douglas-fir','Krummholz'])\n",
    "disp.ax_.set_yticklabels(['Spruce/Fir','Lodgepole Pine','Ponderosa Pine','Cottonwood/Willow','Aspen','Douglas-fir','Krummholz'])"
   ]
  },
  {
   "cell_type": "code",
   "execution_count": null,
   "id": "0b344fc7",
   "metadata": {},
   "outputs": [],
   "source": []
  }
 ],
 "metadata": {
  "kernelspec": {
   "display_name": "Python 3 (ipykernel)",
   "language": "python",
   "name": "python3"
  },
  "language_info": {
   "codemirror_mode": {
    "name": "ipython",
    "version": 3
   },
   "file_extension": ".py",
   "mimetype": "text/x-python",
   "name": "python",
   "nbconvert_exporter": "python",
   "pygments_lexer": "ipython3",
   "version": "3.7.8"
  }
 },
 "nbformat": 4,
 "nbformat_minor": 5
}
