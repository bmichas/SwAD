{
 "cells": [
  {
   "cell_type": "markdown",
   "metadata": {},
   "source": [
    "# Statystyczne metody przetwarzania danych \n",
    "\n",
    "## Laboratorium 2 - algorytm Najbliższego Sąsiada (NN)\n",
    "\n",
    "\n",
    "### Opis\n",
    "Celem jest zbadanie danych i opracowanie algorytmu klasyfikacji liści. Do tego celu należy zaimplementować i zastosować klasyfikator najbliższego sąsiada - NN (Nearest Neighbor).\n",
    "\n",
    "Ukończony projekt powinien:\n",
    "* Klasyfikować dwie klasy liści:\n",
    "    * `Populus nigra` - klasa nr 3, \n",
    "    * `Quercus robur` - klasa nr 5.\n",
    "\n",
    "### Zbiór danych\n",
    "\n",
    "Zbiór danych znajduje się w `dataset/leaf.npz`. Jest to zbiór danych pobrany i zmodyfikowany z adresu: <https://archive.ics.uci.edu/ml/datasets/leaf>.\n",
    "\n",
    "### Przesyłanie zadań\n",
    "\n",
    "Wszystkie pliki należy spakować archiwizatorem **zip** i przesłać za pośrednictwem platformy WIKAMP. Poniżej oczekiwana zawartość archiwum:\n",
    "\n",
    "```\n",
    "+-- 📂 [IMIE I NAZWISKO].zip\n",
    "    +-- 📜 Lab01.ipynb\n",
    "    +-- 📂 dataset\n",
    "        +-- 📜 leaf.npz\n",
    "        +-- 📜 ReadMe.pdf\n",
    "```\n",
    "\n",
    "### Zadanie 1\n",
    "\n",
    "Wczytaj dane z pliku `dataset.npz`. Plik ten zawiera zbiór danych podzielony na dwa podzbiory: treningowy `train` i testowy `test`. Każdy z nich zawiera cechy oraz indeksy klas. Dokładny opis zbioru danych znajduje się w pliku `ReadMe.pdf`.\n",
    "\n",
    "> Podpowiedź: Możesz wykorzystać poniższy kod:\n",
    "```python\n",
    "with open('./dataset/dataset.npz', 'rb') as f:\n",
    "    data = np.load(f)\n",
    "    train, test = data['train'], data['test']\n",
    "```"
   ]
  },
  {
   "cell_type": "code",
   "execution_count": 1,
   "metadata": {},
   "outputs": [],
   "source": [
    "import numpy as np\n",
    "with open('dataset.npz', 'rb') as f:\n",
    "    data = np.load(f)\n",
    "    train, test = data['train'], data['test']"
   ]
  },
  {
   "cell_type": "markdown",
   "metadata": {},
   "source": [
    "### Zadanie 2\n",
    "\n",
    "Sprawdź: \n",
    "* ile jest wszystkich próbek z zbiorze, \n",
    "* ile jest próbek w poszczegónych klasach.\n",
    "\n",
    "Czy zauważyłeś jakieś problemy związane z tym zbiorem danych?`"
   ]
  },
  {
   "cell_type": "code",
   "execution_count": 2,
   "metadata": {
    "scrolled": true
   },
   "outputs": [
    {
     "name": "stdout",
     "output_type": "stream",
     "text": [
      "Train: (2244, 16)\n",
      "Test: (1496, 16)\n",
      "For 1 count: 77\n",
      "For 2 count: 66\n",
      "For 3 count: 55\n",
      "For 4 count: 66\n",
      "For 5 count: 77\n",
      "For 6 count: 44\n",
      "For 7 count: 44\n",
      "For 8 count: 33\n",
      "For 9 count: 121\n",
      "For 10 count: 88\n",
      "For 11 count: 88\n",
      "For 12 count: 77\n",
      "For 13 count: 99\n",
      "For 14 count: 66\n",
      "For 15 count: 66\n",
      "For 16 count: 0\n",
      "For 17 count: 0\n",
      "For 18 count: 0\n",
      "For 19 count: 0\n",
      "For 20 count: 0\n",
      "For 21 count: 0\n",
      "For 22 count: 121\n",
      "For 23 count: 77\n",
      "For 24 count: 77\n",
      "For 25 count: 66\n",
      "For 26 count: 99\n",
      "For 27 count: 55\n",
      "For 28 count: 66\n",
      "For 29 count: 110\n",
      "For 30 count: 77\n",
      "For 31 count: 77\n",
      "For 32 count: 66\n",
      "For 33 count: 66\n",
      "For 34 count: 99\n",
      "For 35 count: 88\n",
      "For 36 count: 33\n",
      "For 37 count: 0\n",
      "For 38 count: 0\n",
      "For 39 count: 0\n",
      "For 40 count: 0\n"
     ]
    },
    {
     "data": {
      "text/plain": [
       "'\\n<TU ODPOWIEDZ NA PYTANIE>\\nNie ma danych dla 37, 38,39,40,16,17,18,19,20,21\\n'"
      ]
     },
     "execution_count": 2,
     "metadata": {},
     "output_type": "execute_result"
    }
   ],
   "source": [
    "\n",
    "print('Train:', train.shape)\n",
    "print('Test:', test.shape)\n",
    "train[:, 0]\n",
    "\n",
    "for i in range(40):\n",
    "    print(\"For\", i+1 , \"count:\", len(train[train[:, 0] == i+1]))\n",
    "\"\"\"\n",
    "<TU ODPOWIEDZ NA PYTANIE>\n",
    "Nie ma danych dla 37, 38,39,40,16,17,18,19,20,21\n",
    "\"\"\""
   ]
  },
  {
   "cell_type": "markdown",
   "metadata": {},
   "source": [
    "### Zadanie 3\n",
    "\n",
    "Wybierz wiersze należące do poniższych klas (rodzaje liści) i zapisz w zmiennych `train_new` oraz `test_new`:\n",
    "* `Populus nigra` - klasa nr 3, \n",
    "* `Quercus robur` - klasa nr 5.\n",
    "\n",
    "Aby wybrać jedynie te wiersze, które należą do wymienionych klas, należy przefiltrować dane po kolumnie o indeksie `0`:\n"
   ]
  },
  {
   "cell_type": "code",
   "execution_count": 3,
   "metadata": {},
   "outputs": [],
   "source": [
    "# train[:, 0] == 3\n",
    "# <UZUPEŁNIJ>\n",
    "# train_new = np.vstack((train[train[:, 0] == 3], train[train[:, 0] == 5]))\n",
    "# test_new = np.vstack((test[test[:, 0] == 3], test[test[:, 0] == 5]))\n",
    "train_new = train[(train[:, 0] == 3) | (train[:, 0] == 5)]\n",
    "test_new = test[(test[:, 0] == 3) | (test[:, 0] == 5)]\n",
    "# train_new = train[train[:, 0] == 3]\n",
    "# test_new = test[test[:, 0] == 3]"
   ]
  },
  {
   "cell_type": "markdown",
   "metadata": {},
   "source": [
    "### Zadanie 4\n",
    "\n",
    "A) Wybierz dwie dowolne cechy (*features*), np. o indeksach 4 i 8.<br />\n",
    "B) Przedstaw graficznie próbki - na osi X i Y wartości wybranych cech.\n",
    "\n",
    "Poniższy kod importuje kolekcję funkcji przydatnych do wizualizacji z biblioteki `matplotlib` (*info: zwróć uwagę, że nadano alias `plt`*).\n",
    "```python\n",
    "import matplotlib.pyplot as plt\n",
    "```\n",
    "\n",
    "Możesz wykorzystać funkcje `plt.figure`, `plt.scatter`, `plt.legend`, `plt.title`, `plt.xlabel` i `plt.ylabel` w celu wykonania tego zadania.\n",
    "\n",
    "Scatter: <https://matplotlib.org/3.3.3/api/_as_gen/matplotlib.pyplot.scatter.html>\n",
    "\n",
    ">Ważne: Pamiętaj, że każdy przedstawiony wykres powinien być czytelny i posiadać następujące elementy:\n",
    "* tytuł,\n",
    "* opisy wszystkich osi,\n",
    "* legendę.\n",
    "\n",
    "> **Przykład**:\n",
    "```python\n",
    "import matplotlib.pyplot as plt\n",
    "import numpy as np\n",
    "plt.figure()\n",
    "plt.title(\"Próbki\")\n",
    "plt.xlabel(f\"Cecha 1\")\n",
    "plt.ylabel(f\"Cecha 2\")\n",
    "samples = np.random.rand(2, 20, 2)\n",
    "samples[0] = samples[0]-0.5\n",
    "samples[1] = samples[1]+0.5\n",
    "for idx, sample in enumerate(samples):\n",
    "    plt.scatter(x=sample[:, 0], y=sample[:, 1], label=idx)\n",
    "plt.legend()\n",
    "```\n",
    "<img src=\"data:image/png;base64,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\" />\n",
    "\n",
    "Dodatkowe zasoby:\n",
    "* `pyplot`: <https://matplotlib.org/tutorials/introductory/pyplot.html>"
   ]
  },
  {
   "cell_type": "code",
   "execution_count": 4,
   "metadata": {},
   "outputs": [
    {
     "data": {
      "text/plain": [
       "<matplotlib.legend.Legend at 0x2b025da3460>"
      ]
     },
     "execution_count": 4,
     "metadata": {},
     "output_type": "execute_result"
    },
    {
     "data": {
      "image/png": "[encoded data removed]",
      "text/plain": [
       "<Figure size 432x288 with 1 Axes>"
      ]
     },
     "metadata": {
      "needs_background": "light"
     },
     "output_type": "display_data"
    }
   ],
   "source": [
    "import matplotlib.pyplot as plt\n",
    "\n",
    "plt.figure()\n",
    "plt.title(\"Próbki\")\n",
    "plt.xlabel(f\"Elongation\")\n",
    "plt.ylabel(f\"Isoperimetric Factor\")\n",
    "\n",
    "# nigra = train_new[train_new[:, 0] == 3]\n",
    "# robur = train_new[train_new[:, 0] == 5]\n",
    "# plt.scatter(x=nigra[:,4], y=nigra[:,8], label='nigra')\n",
    "# plt.scatter(x=robur[:,4], y=robur[:,8], label='robur')\n",
    "# plt.legend()\n",
    "\n",
    "klasy = [3, 5]\n",
    "name = {3: 'Nigra', 5: 'Robur'}\n",
    "for i in klasy:\n",
    "    data_plt = train_new[train_new[:, 0] == i]\n",
    "    plt.scatter(x=data_plt[:,4], y=data_plt[:,8], label=name[i])\n",
    "plt.legend()   "
   ]
  },
  {
   "cell_type": "markdown",
   "metadata": {},
   "source": [
    "### Zadanie 5\n",
    "\n",
    "Zaimplementuj funkcję `edist`, która zwróci _odległość Euklidesa_ pomiędzy punktem `p1` oraz `p2` uwzględniający wybrane cechy `features`.\n",
    "\n",
    "$$\n",
    "d(x, y) = \\sqrt{\\sum^{n-1}_{i=0}{(x_i - y_i)^2}}\n",
    "$$"
   ]
  },
  {
   "cell_type": "code",
   "execution_count": 5,
   "metadata": {},
   "outputs": [
    {
     "data": {
      "text/plain": [
       "4.242640687119285"
      ]
     },
     "execution_count": 5,
     "metadata": {},
     "output_type": "execute_result"
    }
   ],
   "source": [
    "# <UZUPEŁNIJ PONIZEJ>\n",
    "features = [1, 2] # kolumny o indeksach 1, 2\n",
    "p1 = [0, 2, 3]\n",
    "p2 = [0, 5, 6]\n",
    "\n",
    "def edist(p1, p2, features):\n",
    "    p1_new = []\n",
    "    p2_new = []\n",
    "    distance = 0\n",
    "    for i in features:\n",
    "        p1_new.append(p1[i])\n",
    "        p2_new.append(p2[i])\n",
    "    for i in range(len(p1_new)):\n",
    "        distance += (p1_new[0] - p2_new[0])**2\n",
    "        \n",
    "    return distance**0.5\n",
    "\n",
    "edist(p1, p2, features) # 4.242640687119285"
   ]
  },
  {
   "cell_type": "markdown",
   "metadata": {
    "run_control": {
     "marked": true
    }
   },
   "source": [
    "### Zadanie 6\n",
    "\n",
    "Zaimplementuj klasyfikator najbliższego sąsiada. \n",
    "1. Oblicz odległość każdego elementu ze zbioru _testowego_ do każdego elementu ze zbioru _treningowego_. \n",
    "2. Odnajdź taki element ze zbioru _treningowego_, którego odległość do klasyfikowanego elementu (ze zbioru _testowego_) jest najmniejsza.\n",
    "3. Przypisz klasyfikowanemu elementowi klasę.\n"
   ]
  },
  {
   "cell_type": "code",
   "execution_count": 6,
   "metadata": {},
   "outputs": [],
   "source": [
    "# <UZUPEŁNIJ>"
   ]
  },
  {
   "cell_type": "markdown",
   "metadata": {},
   "source": [
    "### Zadanie 7\n",
    "Wyświetl wyniki klasyfikacji (próbki treningowe i testowe), każdą klasę w innym kolorze, a próbki testowe innym \"markerem\".\n",
    "\n",
    "> Wykorzystaj parametry: `facecolors`, `edgecolors`, `marker` i `c` funkcji `scatter`."
   ]
  },
  {
   "cell_type": "code",
   "execution_count": 7,
   "metadata": {},
   "outputs": [],
   "source": [
    "# <UZUPEŁNIJ>"
   ]
  },
  {
   "cell_type": "markdown",
   "metadata": {},
   "source": [
    "### Zadanie 8\n",
    "\n",
    "Oblicz dokładność (*Accuracy*) klasyfikacji (stosunek poprawnie zaklasyfikowanych próbek do liczby wszystkich próbek wyrażony procentowo).\n",
    "\n",
    "$$\n",
    "\\texttt{Accuracy} = \\frac{T}{N}\n",
    "$$\n",
    "\n",
    "gdzie $T$ - liczba poprawnie zaklasyfikowanych próbek, $N$ - liczba wszystkich próbek.\n"
   ]
  },
  {
   "cell_type": "code",
   "execution_count": 8,
   "metadata": {},
   "outputs": [],
   "source": [
    "# <UZUPEŁNIJ>"
   ]
  },
  {
   "cell_type": "markdown",
   "metadata": {},
   "source": [
    "### Zadanie 9\n",
    "\n",
    "Wybierz 5 dowolnych rodzajów liści (klasy) i przeprowadź eksperyment ponownie.\n",
    "\n",
    "> Możesz połączyć wszystkie powyższe fragmenty doku w wkleić w komórkę poniżej zmieniając liczbę klas."
   ]
  },
  {
   "cell_type": "code",
   "execution_count": 9,
   "metadata": {},
   "outputs": [],
   "source": [
    "# <UZUPEŁNIJ>"
   ]
  },
  {
   "cell_type": "markdown",
   "metadata": {},
   "source": [
    "### Zadanie 10\n",
    "\n",
    "Przeprowadź eksperyment ponownie dla większej liczby cech."
   ]
  },
  {
   "cell_type": "code",
   "execution_count": 10,
   "metadata": {},
   "outputs": [],
   "source": [
    "# <UZUPEŁNIJ>"
   ]
  },
  {
   "cell_type": "markdown",
   "metadata": {},
   "source": [
    "### Zadanie 11\n",
    "\n",
    "Napisz wnioski z przeprowadzonego eksperymentu."
   ]
  },
  {
   "cell_type": "code",
   "execution_count": 11,
   "metadata": {},
   "outputs": [
    {
     "data": {
      "text/plain": [
       "'\\n<TU NAPISZ WNIOSKI>\\n\\n'"
      ]
     },
     "execution_count": 11,
     "metadata": {},
     "output_type": "execute_result"
    }
   ],
   "source": [
    "\"\"\"\n",
    "<TU NAPISZ WNIOSKI>\n",
    "\n",
    "\"\"\""
   ]
  }
 ],
 "metadata": {
  "author": {
   "emails": [
    "rsusik@kis.p.lodz.pl"
   ],
   "name": "Robert Susik"
  },
  "kernelspec": {
   "display_name": "Python 3 (ipykernel)",
   "language": "python",
   "name": "python3"
  },
  "language_info": {
   "codemirror_mode": {
    "name": "ipython",
    "version": 3
   },
   "file_extension": ".py",
   "mimetype": "text/x-python",
   "name": "python",
   "nbconvert_exporter": "python",
   "pygments_lexer": "ipython3",
   "version": "3.9.2"
  },
  "toc": {
   "base_numbering": 1,
   "nav_menu": {},
   "number_sections": true,
   "sideBar": true,
   "skip_h1_title": false,
   "title_cell": "Table of Contents",
   "title_sidebar": "Contents",
   "toc_cell": false,
   "toc_position": {},
   "toc_section_display": true,
   "toc_window_display": true
  }
 },
 "nbformat": 4,
 "nbformat_minor": 4
}
