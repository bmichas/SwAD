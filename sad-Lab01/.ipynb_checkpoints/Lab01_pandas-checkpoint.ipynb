{
 "cells": [
  {
   "cell_type": "markdown",
   "id": "015118db",
   "metadata": {},
   "source": [
    "# Statystyka w analizie danych\n",
    "\n",
    "\n",
    "## Laboratorium 1\n",
    "\n",
    "\n",
    "### Opis\n",
    "\n",
    "Celem laboratorium jest instalacja środowiska programistycznego oraz zapoznanie się z podstawowymi bibliotekami do przetwarzania danych w języku Python.\n",
    "\n",
    "### Termin\n",
    "Zadanie należy wykonać w trakcie trwania laboratorium lub przed kolejnym terminem.\n",
    "\n",
    "<u>Uwaga:</u>\n",
    "\n",
    "Zadanie indywidualne. Każdy student powinien pobrać treść zadania i wykonać je samodzielnie.\n",
    "Wysyłając zadanie potwierdasz, że wykonałeś je samodzielnie i jest to Twoja indywidualna praca, a materiał przedstawiony w tej pracy jest dla Ciebie zrozumiały.\n",
    "\n",
    "\n",
    "### Zbiór danych\n",
    "\n",
    "Zbiór danych znajduje się w katalogu `dataset/*`.\n",
    "\n",
    "### Przesyłanie zadań\n",
    "\n",
    "Wszystkie pliki należy spakować archiwizatorem **zip** i przesłać za pośrednictwem platformy WIKAMP. Poniżej oczekiwana zawartość archiwum:\n",
    "\n",
    "```\n",
    "+-- 📂 [IMIE.NAZWISKO].zip\n",
    "    +-- 📜 Lab01.ipynb\n",
    "    +-- 📂 dataset\n",
    "        +-- 📜 dane.npz\n",
    "        +-- 📜 dane-ludnosc.npz\n",
    "```\n",
    "\n",
    "\n",
    "\n",
    "### Instalacja środowiska\n",
    "\n",
    "Wymagania:\n",
    "- Python>=3.8\n",
    "- notebook\n",
    "- numpy\n",
    "- pandas\n",
    "- matplotlib\n",
    "- scikit-learn\n",
    "- scipy\n",
    "\n",
    "Sprawdź wersję Pythona jaką masz zainstalowaną w systemie:\n",
    "`python -V`\n",
    "\n",
    "#### Instalacja (dwa warianty):\n",
    "\n",
    "#### Dla zainstalowanej instancji Pythona\n",
    "\n",
    "`pip install notebook numpy pandas matplotlib scikit-learn scipy`\n",
    "\n",
    "#### Dla środowiska Conda\n",
    "\n",
    "`conda create -n smpd python=3.8 notebook numpy pandas matplotlib scikit-learn scipy`\n",
    "\n",
    "\n",
    "### Zadania\n",
    "\n",
    "#### Zadanie 1\n",
    "\n",
    "Wczytaj dane z pliku `dane.npz`. Plik ten zawiera zbiór danych zawierający **WYDATKI BUDŻETÓW WOJEWÓDZTW**.\n",
    "\n",
    "> Podpowiedź: Możesz wykorzystać poniższy kod:\n",
    "```python\n",
    "import np\n",
    "with open('./dataset/dane.npz', 'rb') as f:\n",
    "    content = np.load(f)\n",
    "    columns, data = content['columns'].tolist(), content['data'].tolist()\n",
    "```"
   ]
  },
  {
   "cell_type": "code",
   "execution_count": 107,
   "id": "fd6e4348",
   "metadata": {
    "scrolled": false
   },
   "outputs": [],
   "source": [
    "import numpy as np\n",
    "import pandas as pd\n",
    "import matplotlib.pyplot as plt\n",
    "\n",
    "with open('./dataset/dane.npz', 'rb') as f:\n",
    "    content = np.load(f)\n",
    "    columns_fFile, data = content['columns'].tolist(), content['data'].tolist()"
   ]
  },
  {
   "cell_type": "markdown",
   "id": "40d02277",
   "metadata": {},
   "source": [
    "#### Zadanie 2\n",
    "\n",
    "Zapoznaj się z zawartością zmiennych `columns` oraz `data`.\n"
   ]
  },
  {
   "cell_type": "code",
   "execution_count": 108,
   "id": "ce26cb80",
   "metadata": {},
   "outputs": [
    {
     "data": {
      "text/html": [
       "<div>\n",
       "<style scoped>\n",
       "    .dataframe tbody tr th:only-of-type {\n",
       "        vertical-align: middle;\n",
       "    }\n",
       "\n",
       "    .dataframe tbody tr th {\n",
       "        vertical-align: top;\n",
       "    }\n",
       "\n",
       "    .dataframe thead th {\n",
       "        text-align: right;\n",
       "    }\n",
       "</style>\n",
       "<table border=\"1\" class=\"dataframe\">\n",
       "  <thead>\n",
       "    <tr style=\"text-align: right;\">\n",
       "      <th></th>\n",
       "      <th>Kod</th>\n",
       "      <th>Nazwa</th>\n",
       "      <th>Rodzaje wydatków</th>\n",
       "      <th>Rok</th>\n",
       "      <th>Wartosc</th>\n",
       "      <th>Jednostka miary</th>\n",
       "    </tr>\n",
       "  </thead>\n",
       "  <tbody>\n",
       "    <tr>\n",
       "      <th>0</th>\n",
       "      <td>0</td>\n",
       "      <td>POLSKA</td>\n",
       "      <td>ogółem</td>\n",
       "      <td>1999</td>\n",
       "      <td>3264607228.0</td>\n",
       "      <td>zł</td>\n",
       "    </tr>\n",
       "    <tr>\n",
       "      <th>1</th>\n",
       "      <td>0</td>\n",
       "      <td>POLSKA</td>\n",
       "      <td>ogółem</td>\n",
       "      <td>2000</td>\n",
       "      <td>3787133133.0</td>\n",
       "      <td>zł</td>\n",
       "    </tr>\n",
       "    <tr>\n",
       "      <th>2</th>\n",
       "      <td>0</td>\n",
       "      <td>POLSKA</td>\n",
       "      <td>ogółem</td>\n",
       "      <td>2001</td>\n",
       "      <td>4737055309.0</td>\n",
       "      <td>zł</td>\n",
       "    </tr>\n",
       "    <tr>\n",
       "      <th>3</th>\n",
       "      <td>0</td>\n",
       "      <td>POLSKA</td>\n",
       "      <td>ogółem</td>\n",
       "      <td>2002</td>\n",
       "      <td>4340435516.0</td>\n",
       "      <td>zł</td>\n",
       "    </tr>\n",
       "    <tr>\n",
       "      <th>4</th>\n",
       "      <td>0</td>\n",
       "      <td>POLSKA</td>\n",
       "      <td>ogółem</td>\n",
       "      <td>2003</td>\n",
       "      <td>4712741177.0</td>\n",
       "      <td>zł</td>\n",
       "    </tr>\n",
       "    <tr>\n",
       "      <th>...</th>\n",
       "      <td>...</td>\n",
       "      <td>...</td>\n",
       "      <td>...</td>\n",
       "      <td>...</td>\n",
       "      <td>...</td>\n",
       "      <td>...</td>\n",
       "    </tr>\n",
       "    <tr>\n",
       "      <th>369</th>\n",
       "      <td>3200000</td>\n",
       "      <td>ZACHODNIOPOMORSKIE</td>\n",
       "      <td>ogółem</td>\n",
       "      <td>2016</td>\n",
       "      <td>576750021.41</td>\n",
       "      <td>zł</td>\n",
       "    </tr>\n",
       "    <tr>\n",
       "      <th>370</th>\n",
       "      <td>3200000</td>\n",
       "      <td>ZACHODNIOPOMORSKIE</td>\n",
       "      <td>ogółem</td>\n",
       "      <td>2017</td>\n",
       "      <td>805951761.32</td>\n",
       "      <td>zł</td>\n",
       "    </tr>\n",
       "    <tr>\n",
       "      <th>371</th>\n",
       "      <td>3200000</td>\n",
       "      <td>ZACHODNIOPOMORSKIE</td>\n",
       "      <td>ogółem</td>\n",
       "      <td>2018</td>\n",
       "      <td>952068914.82</td>\n",
       "      <td>zł</td>\n",
       "    </tr>\n",
       "    <tr>\n",
       "      <th>372</th>\n",
       "      <td>3200000</td>\n",
       "      <td>ZACHODNIOPOMORSKIE</td>\n",
       "      <td>ogółem</td>\n",
       "      <td>2019</td>\n",
       "      <td>787087388.44</td>\n",
       "      <td>zł</td>\n",
       "    </tr>\n",
       "    <tr>\n",
       "      <th>373</th>\n",
       "      <td>3200000</td>\n",
       "      <td>ZACHODNIOPOMORSKIE</td>\n",
       "      <td>ogółem</td>\n",
       "      <td>2020</td>\n",
       "      <td>964075527.72</td>\n",
       "      <td>zł</td>\n",
       "    </tr>\n",
       "  </tbody>\n",
       "</table>\n",
       "<p>374 rows × 6 columns</p>\n",
       "</div>"
      ],
      "text/plain": [
       "         Kod               Nazwa Rodzaje wydatków   Rok       Wartosc  \\\n",
       "0          0              POLSKA           ogółem  1999  3264607228.0   \n",
       "1          0              POLSKA           ogółem  2000  3787133133.0   \n",
       "2          0              POLSKA           ogółem  2001  4737055309.0   \n",
       "3          0              POLSKA           ogółem  2002  4340435516.0   \n",
       "4          0              POLSKA           ogółem  2003  4712741177.0   \n",
       "..       ...                 ...              ...   ...           ...   \n",
       "369  3200000  ZACHODNIOPOMORSKIE           ogółem  2016  576750021.41   \n",
       "370  3200000  ZACHODNIOPOMORSKIE           ogółem  2017  805951761.32   \n",
       "371  3200000  ZACHODNIOPOMORSKIE           ogółem  2018  952068914.82   \n",
       "372  3200000  ZACHODNIOPOMORSKIE           ogółem  2019  787087388.44   \n",
       "373  3200000  ZACHODNIOPOMORSKIE           ogółem  2020  964075527.72   \n",
       "\n",
       "    Jednostka miary  \n",
       "0                zł  \n",
       "1                zł  \n",
       "2                zł  \n",
       "3                zł  \n",
       "4                zł  \n",
       "..              ...  \n",
       "369              zł  \n",
       "370              zł  \n",
       "371              zł  \n",
       "372              zł  \n",
       "373              zł  \n",
       "\n",
       "[374 rows x 6 columns]"
      ]
     },
     "execution_count": 108,
     "metadata": {},
     "output_type": "execute_result"
    }
   ],
   "source": [
    "df = pd.DataFrame(data, columns = columns_fFile)\n",
    "df"
   ]
  },
  {
   "cell_type": "markdown",
   "id": "2d74fa9e",
   "metadata": {},
   "source": [
    "#### Zadanie 3\n",
    "\n",
    "Wyświetl tylko dane z roku `2008`.\n"
   ]
  },
  {
   "cell_type": "code",
   "execution_count": 109,
   "id": "244b1d3a",
   "metadata": {},
   "outputs": [],
   "source": [
    "df_2008 = df.loc[df['Rok'] == '2008']\n",
    "df_2008 = df_2008.reset_index()"
   ]
  },
  {
   "cell_type": "markdown",
   "id": "98078a91",
   "metadata": {},
   "source": [
    "#### Zadanie 4\n",
    "\n",
    "Wyświetl wykres uwzględniając 10 województw (bez sumarycznego dla całego kraju), w których wydatki budżetów były największe.\n",
    "\n",
    "> Podpowiedź: Możesz w tym celu wykorzystać moduł matplotlib.pyplot. Przykład:\n",
    "```python\n",
    "import matplotlib.pyplot as plt\n",
    "plt.bar([1, 2, 3], [5, 2, 4])\n",
    "```\n",
    "\n",
    "> Podpowiedź 2: Sprawdź inne funkcje aby utworzyć tytuł wykresu, oznaczyć osie, wyświetlić legendę i zmienić kolory słupków. https://matplotlib.org/stable/tutorials/introductory/pyplot.html"
   ]
  },
  {
   "cell_type": "code",
   "execution_count": 110,
   "id": "44b0bcb4",
   "metadata": {},
   "outputs": [
    {
     "name": "stderr",
     "output_type": "stream",
     "text": [
      "C:\\Users\\Bartek\\AppData\\Local\\Temp\\ipykernel_10632\\3806514529.py:4: SettingWithCopyWarning: \n",
      "A value is trying to be set on a copy of a slice from a DataFrame.\n",
      "Try using .loc[row_indexer,col_indexer] = value instead\n",
      "\n",
      "See the caveats in the documentation: https://pandas.pydata.org/pandas-docs/stable/user_guide/indexing.html#returning-a-view-versus-a-copy\n",
      "  df_2008_top10['Wartosc'] = df_2008_top10['Wartosc'].astype(str).astype(float)\n"
     ]
    },
    {
     "data": {
      "image/png": "[encoded data removed]",
      "text/plain": [
       "<Figure size 432x288 with 1 Axes>"
      ]
     },
     "metadata": {
      "needs_background": "light"
     },
     "output_type": "display_data"
    }
   ],
   "source": [
    "df_2008 = df_2008.sort_values(by='Wartosc', ascending=False)\n",
    "df_2008 = df_2008.reset_index()\n",
    "df_2008_top10 = df_2008.head(n=10)\n",
    "df_2008_top10['Wartosc'] = df_2008_top10['Wartosc'].astype(str).astype(float)\n",
    "df_2008_top10.dtypes\n",
    "ax = df_2008_top10.plot.bar(x = 'Nazwa', y='Wartosc', rot=0)"
   ]
  },
  {
   "cell_type": "markdown",
   "id": "2148774e",
   "metadata": {},
   "source": [
    "#### Zadanie 5\n",
    "\n",
    "Wczytaj dane z pliku `dane-ludnosc.npz`. Plik ten zawiera zbiór danych zawierający **liczbę ludnosci**.\n",
    "\n",
    "Oblicz wydatki z budżetu na mieszkańca dla każdego z województw (_uwzględnij dane dla roku `2008`_).\n"
   ]
  },
  {
   "cell_type": "code",
   "execution_count": null,
   "id": "2ed3a2d6",
   "metadata": {},
   "outputs": [],
   "source": [
    "# TUTAJ UMIESC SWOJ KOD"
   ]
  },
  {
   "cell_type": "markdown",
   "id": "53e771bb",
   "metadata": {},
   "source": [
    "#### Zadanie 6\n",
    "\n",
    "Wykonaj dalszą analizę zbiorów danych (dowolną). Czy coś ciekawego zaobserwowałeś?\n"
   ]
  },
  {
   "cell_type": "code",
   "execution_count": null,
   "id": "c3e13f17",
   "metadata": {},
   "outputs": [],
   "source": [
    "# TUTAJ UMIESC SWOJ KOD"
   ]
  }
 ],
 "metadata": {
  "author": {
   "email": "robert.susik@p.lodz.pl",
   "name": "Robert Susik"
  },
  "kernelspec": {
   "display_name": "Python 3 (ipykernel)",
   "language": "python",
   "name": "python3"
  },
  "language_info": {
   "codemirror_mode": {
    "name": "ipython",
    "version": 3
   },
   "file_extension": ".py",
   "mimetype": "text/x-python",
   "name": "python",
   "nbconvert_exporter": "python",
   "pygments_lexer": "ipython3",
   "version": "3.9.2"
  },
  "toc": {
   "base_numbering": 1,
   "nav_menu": {},
   "number_sections": true,
   "sideBar": true,
   "skip_h1_title": false,
   "title_cell": "Table of Contents",
   "title_sidebar": "Contents",
   "toc_cell": false,
   "toc_position": {},
   "toc_section_display": true,
   "toc_window_display": false
  }
 },
 "nbformat": 4,
 "nbformat_minor": 5
}
