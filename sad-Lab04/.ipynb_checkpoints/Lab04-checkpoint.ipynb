{
 "cells": [
  {
   "cell_type": "markdown",
   "id": "bedecc37",
   "metadata": {},
   "source": [
    "## Laboratorium 4 - algorytm Najbliższej Średniej (NM)\n",
    "\n",
    "\n",
    "### Opis\n",
    "Celem laboratorium jest implementacja klasyfikatora najbliższej średniej NM (*Nearest Mean*).\n",
    "\n",
    "\n",
    "### Zadanie\n",
    "\n",
    "Należy wykonać następujące czynności w celu realizacji niniejszego zadania:\n",
    "* Wczytaj dane.\n",
    "* **Zaimplementuj klasyfikator najbliższej średniej (NM) z zastosowaniem odległości Euklidesa**.\n",
    "* Zaimplementuj funkcję, która zwraca macierz kowariancji (*uwaga: biblioteka `numpy` posiada gotową implementację `cov` z którą możesz porównać wynik*).\n",
    "\n",
    "    \\begin{equation*}\n",
    "    C = \\frac{1}{n - 1} (X - \\bar X)(X - \\bar X)^T\n",
    "    \\end{equation*}\n",
    "\n",
    "    gdzie:\n",
    "    * $X$ to macierz, \n",
    "    * $\\bar X$ to wektor ze średnimi wartościami cech. \n",
    "\n",
    "* **Zaimplementuj klasyfikator najbliższej średniej (NM) z zastosowaniem odległości Machalanobisa**.\n",
    "\n",
    "    \\begin{equation*}\n",
    "    D_j = \\sqrt{ (x - \\mu_j)^T S_j^{-1}(x - \\mu_j) },\n",
    "    \\end{equation*}\n",
    "\n",
    "    gdzie:\n",
    "    * $D_j$ to odległość klasyfikowanej próbki do $j$-tej klasy (grupy, klastra), \n",
    "    * $\\mu_j$ to wektor ze średnimi wartościami cech w obrębie $j$-tej klasy, \n",
    "    * $S_j^{-1}$ to odwrócona macierz kowariancji $j$-tej klasy, \n",
    "    * a $x$ to klasyfikowana próbka.\n",
    "\n",
    "* Opisz wyniki klasyfikatorów i porównaj je z klasyfikatorem *k*NN (porównaj w kontekście różnych metryk - obowiązkowo tablica pomyłek).\n",
    "\n",
    "> Podpowiedź 1: Do obliczenia macierzy odwrotnej możesz użyć gotową implementację, np. funkcję `linalg.inv` z biblioteki `numpy`.\n",
    "\n",
    "> Podpowiedź 2: Do wszelkich podstawowych operacji na macierzach (mnożenie, transpozycja, dodawanie, odejmowanie, itp.) możesz zastosować gotową implementację, np. bibliotekę `numpy`.\n",
    "\n",
    "> UWAGA 1: W niniejszym zadaniu jest dowolność implementacji (nie trzeba trzymać się struktury z poprzedniego zadania), jednak algorytm NM należy zaimplementować samodzielnie bez korzystania z istniających rozwiązań (jak np. z biblioteki `scikit-learn`).\n",
    "\n",
    "> UWAGA 2: Wszystkie wykonane elementy zadania powinny posiadać stosowne komentarze i opisy.\n",
    "\n",
    "\n",
    "**Pamiętaj, wyniki powinny być czytelnie opisane oraz zaprezentowane graficznie (jeżeli jest taka możliwość).**\n",
    "\n",
    "Przykład (na podstawie tablicy pomyłek):\n",
    "\n",
    "**Źle** (nie wiadomo co jest poniżej zaprezentowane, kolumny ani wiersze nie są podpisane, nie wiadomo które z nich prezentują predykcje, a które właściwe etykiety):\n",
    "```\n",
    "array([[2, 0, 0],\n",
    "       [0, 0, 1],\n",
    "       [1, 0, 2]])\n",
    "```\n",
    "\n",
    "\n",
    "<span style=\"text-decoration:underline\">Referencje</span>\n",
    "\n",
    "1. Mahalanobis, P C, _On test and measures of group divergence : theoretical formulae_, Journal and Proceedings of Asiatic Society of Bengal (New Series) Vol. 26, pp. 541-588. 1930. (URL: http://library.isical.ac.in:8080/xmlui/bitstream/handle/10263/1639/029.pdf)\n",
    "2. McLachlan, Goeffrey J. _Mahalanobis distance_, Resonance, pp. 20-26. 1999. (URL: https://www.ias.ac.in/article/fulltext/reso/004/06/0020-0026)"
   ]
  },
  {
   "cell_type": "code",
   "execution_count": 1,
   "id": "23a7414c",
   "metadata": {},
   "outputs": [],
   "source": [
    "import numpy as np\n",
    "import random\n",
    "from matplotlib.axes._axes import _log as matplotlib_axes_logger\n",
    "import matplotlib.pyplot as plt\n",
    "from sklearn import metrics\n",
    "from scipy import stats\n",
    "\n",
    "\n",
    "with open('dataset.npz', 'rb') as f:\n",
    "    data = np.load(f)\n",
    "    train, test = data['train'], data['test']"
   ]
  },
  {
   "cell_type": "code",
   "execution_count": 2,
   "id": "0201ebe2",
   "metadata": {},
   "outputs": [],
   "source": [
    "#obliczanie dystansu\n",
    "def edist(p1, p2, attributes):\n",
    "    p1_new = []\n",
    "    p2_new = []\n",
    "    distance = 0\n",
    "    \n",
    "    for i in attributes:\n",
    "        p1_new.append(p1[i])\n",
    "        p2_new.append(p2[i])\n",
    "    \n",
    "    for i in range(len(p1_new)):\n",
    "        distance += (p1_new[i] - p2_new[i])**2\n",
    "        \n",
    "    return distance**0.5"
   ]
  },
  {
   "cell_type": "code",
   "execution_count": 3,
   "id": "ef19472b",
   "metadata": {},
   "outputs": [],
   "source": [
    "def NM():\n",
    "    pass"
   ]
  },
  {
   "cell_type": "code",
   "execution_count": 11,
   "id": "8227eb02",
   "metadata": {},
   "outputs": [],
   "source": [
    "def average(lst):\n",
    "    return sum(lst)/len(lst)"
   ]
  },
  {
   "cell_type": "code",
   "execution_count": 20,
   "id": "1d152278",
   "metadata": {},
   "outputs": [],
   "source": [
    "def get_mean(leaves,attributes,leaf_class):\n",
    "    leaf_mean =[]\n",
    "    for num_leaf in leaf_class:\n",
    "        leaf = leaves[(leaves[:,0]== num_leaf)]\n",
    "        attribute_mean = [num_leaf]\n",
    "        for attribute in attributes:\n",
    "            leaf_attribute = leaf[:,attribute]\n",
    "            mean = average(leaf_attribute)\n",
    "            attribute_mean.append(mean)\n",
    "        leaf_mean.append(attribute_mean)\n",
    "    return leaf_mean"
   ]
  },
  {
   "cell_type": "code",
   "execution_count": 21,
   "id": "92dc9640",
   "metadata": {},
   "outputs": [],
   "source": [
    "# test_n = train[(train[:,0]== 3)]\n",
    "# print(test_n)\n",
    "# test_n = test_n[:,1]\n",
    "# print(test_n)"
   ]
  },
  {
   "cell_type": "code",
   "execution_count": 23,
   "id": "75b6a2d1",
   "metadata": {},
   "outputs": [
    {
     "name": "stdout",
     "output_type": "stream",
     "text": [
      "[[5, 0.6437878635015158, 0.05229376613526372], [7, 0.5317246149550815, 0.03168745724568389]]\n"
     ]
    }
   ],
   "source": [
    "#wybór klas\n",
    "def get_class(classes):\n",
    "    for i in range(len(classes)):\n",
    "        if i == 0:\n",
    "            new_train = np.array(train[train[:,0] == classes[i]])\n",
    "            new_test = np.array(test[test[:,0] == classes[i]])\n",
    "        else:\n",
    "            new_train = np.vstack((new_train,train[train[:,0] == classes[i]]))\n",
    "            new_test = np.vstack((new_test,test[test[:,0] == classes[i]]))\n",
    "    return new_train, new_test\n",
    "\n",
    "attributes = [4,8]\n",
    "leaf_class = [5,7] #nigra, robur\n",
    "\n",
    "train_new, test_new = get_class(leaf_class)\n",
    "means = get_mean(train_new,attributes,leaf_class)\n",
    "print(means)\n"
   ]
  },
  {
   "cell_type": "code",
   "execution_count": 7,
   "id": "ff797e8c",
   "metadata": {},
   "outputs": [
    {
     "data": {
      "text/plain": [
       "<matplotlib.legend.Legend at 0x13743bd9af0>"
      ]
     },
     "execution_count": 7,
     "metadata": {},
     "output_type": "execute_result"
    },
    {
     "data": {
      "image/png": "[encoded data removed]",
      "text/plain": [
       "<Figure size 432x288 with 1 Axes>"
      ]
     },
     "metadata": {
      "needs_background": "light"
     },
     "output_type": "display_data"
    }
   ],
   "source": [
    "import matplotlib.pyplot as plt\n",
    "\n",
    "plt.figure()\n",
    "plt.title(\"Próbki\")\n",
    "plt.xlabel(f\"Elongation\")\n",
    "plt.ylabel(f\"Isoperimetric Factor\")\n",
    "\n",
    "\n",
    "klasy = [3, 5]\n",
    "name = {3: 'Nigra', 5: 'Robur'}\n",
    "for i in klasy:\n",
    "    data_plt = train_new[train_new[:, 0] == i]\n",
    "    plt.scatter(x=data_plt[:,4], \n",
    "                y=data_plt[:,8], \n",
    "                label=name[i])\n",
    "\n",
    "plt.legend()"
   ]
  },
  {
   "cell_type": "code",
   "execution_count": null,
   "id": "3cec70b0",
   "metadata": {},
   "outputs": [],
   "source": []
  }
 ],
 "metadata": {
  "author": {
   "email": "robert.susik@p.lodz.pl",
   "name": "Robert Susik"
  },
  "kernelspec": {
   "display_name": "Python 3 (ipykernel)",
   "language": "python",
   "name": "python3"
  },
  "language_info": {
   "codemirror_mode": {
    "name": "ipython",
    "version": 3
   },
   "file_extension": ".py",
   "mimetype": "text/x-python",
   "name": "python",
   "nbconvert_exporter": "python",
   "pygments_lexer": "ipython3",
   "version": "3.9.2"
  },
  "toc": {
   "base_numbering": 1,
   "nav_menu": {},
   "number_sections": true,
   "sideBar": true,
   "skip_h1_title": false,
   "title_cell": "Table of Contents",
   "title_sidebar": "Contents",
   "toc_cell": false,
   "toc_position": {},
   "toc_section_display": true,
   "toc_window_display": false
  }
 },
 "nbformat": 4,
 "nbformat_minor": 5
}
