{
 "cells": [
  {
   "cell_type": "markdown",
   "id": "bedecc37",
   "metadata": {},
   "source": [
    "## Laboratorium 4 - algorytm Najbliższej Średniej (NM)\n",
    "\n",
    "\n",
    "### Opis\n",
    "Celem laboratorium jest implementacja klasyfikatora najbliższej średniej NM (*Nearest Mean*).\n",
    "\n",
    "\n",
    "### Zadanie\n",
    "\n",
    "Należy wykonać następujące czynności w celu realizacji niniejszego zadania:\n",
    "* Wczytaj dane.\n",
    "* **Zaimplementuj klasyfikator najbliższej średniej (NM) z zastosowaniem odległości Euklidesa**.\n",
    "* Zaimplementuj funkcję, która zwraca macierz kowariancji (*uwaga: biblioteka `numpy` posiada gotową implementację `cov` z którą możesz porównać wynik*).\n",
    "\n",
    "    \\begin{equation*}\n",
    "    C = \\frac{1}{n - 1} (X - \\bar X)(X - \\bar X)^T\n",
    "    \\end{equation*}\n",
    "\n",
    "    gdzie:\n",
    "    * $X$ to macierz, \n",
    "    * $\\bar X$ to wektor ze średnimi wartościami cech. \n",
    "\n",
    "* **Zaimplementuj klasyfikator najbliższej średniej (NM) z zastosowaniem odległości Machalanobisa**.\n",
    "\n",
    "    \\begin{equation*}\n",
    "    D_j = \\sqrt{ (x - \\mu_j)^T S_j^{-1}(x - \\mu_j) },\n",
    "    \\end{equation*}\n",
    "\n",
    "    gdzie:\n",
    "    * $D_j$ to odległość klasyfikowanej próbki do $j$-tej klasy (grupy, klastra), \n",
    "    * $\\mu_j$ to wektor ze średnimi wartościami cech w obrębie $j$-tej klasy, \n",
    "    * $S_j^{-1}$ to odwrócona macierz kowariancji $j$-tej klasy, \n",
    "    * a $x$ to klasyfikowana próbka.\n",
    "\n",
    "* Opisz wyniki klasyfikatorów i porównaj je z klasyfikatorem *k*NN (porównaj w kontekście różnych metryk - obowiązkowo tablica pomyłek).\n",
    "\n",
    "> Podpowiedź 1: Do obliczenia macierzy odwrotnej możesz użyć gotową implementację, np. funkcję `linalg.inv` z biblioteki `numpy`.\n",
    "\n",
    "> Podpowiedź 2: Do wszelkich podstawowych operacji na macierzach (mnożenie, transpozycja, dodawanie, odejmowanie, itp.) możesz zastosować gotową implementację, np. bibliotekę `numpy`.\n",
    "\n",
    "> UWAGA 1: W niniejszym zadaniu jest dowolność implementacji (nie trzeba trzymać się struktury z poprzedniego zadania), jednak algorytm NM należy zaimplementować samodzielnie bez korzystania z istniających rozwiązań (jak np. z biblioteki `scikit-learn`).\n",
    "\n",
    "> UWAGA 2: Wszystkie wykonane elementy zadania powinny posiadać stosowne komentarze i opisy.\n",
    "\n",
    "\n",
    "**Pamiętaj, wyniki powinny być czytelnie opisane oraz zaprezentowane graficznie (jeżeli jest taka możliwość).**\n",
    "\n",
    "Przykład (na podstawie tablicy pomyłek):\n",
    "\n",
    "**Źle** (nie wiadomo co jest poniżej zaprezentowane, kolumny ani wiersze nie są podpisane, nie wiadomo które z nich prezentują predykcje, a które właściwe etykiety):\n",
    "```\n",
    "array([[2, 0, 0],\n",
    "       [0, 0, 1],\n",
    "       [1, 0, 2]])\n",
    "```\n",
    "\n",
    "\n",
    "<span style=\"text-decoration:underline\">Referencje</span>\n",
    "\n",
    "1. Mahalanobis, P C, _On test and measures of group divergence : theoretical formulae_, Journal and Proceedings of Asiatic Society of Bengal (New Series) Vol. 26, pp. 541-588. 1930. (URL: http://library.isical.ac.in:8080/xmlui/bitstream/handle/10263/1639/029.pdf)\n",
    "2. McLachlan, Goeffrey J. _Mahalanobis distance_, Resonance, pp. 20-26. 1999. (URL: https://www.ias.ac.in/article/fulltext/reso/004/06/0020-0026)"
   ]
  },
  {
   "cell_type": "code",
   "execution_count": 20,
   "id": "23a7414c",
   "metadata": {},
   "outputs": [],
   "source": [
    "import numpy as np\n",
    "import random\n",
    "import matplotlib.pyplot as plt\n",
    "from sklearn import metrics\n",
    "from scipy import stats\n",
    "from matplotlib.axes._axes import _log as matplotlib_axes_logger\n",
    "matplotlib_axes_logger.setLevel('ERROR')\n",
    "\n",
    "\n",
    "with open('dataset.npz', 'rb') as f:\n",
    "    data = np.load(f)\n",
    "    train, test = data['train'], data['test']"
   ]
  },
  {
   "cell_type": "code",
   "execution_count": 21,
   "id": "0201ebe2",
   "metadata": {},
   "outputs": [],
   "source": [
    "#obliczanie dystansu\n",
    "def edist(p1, p2, attributes):\n",
    "    p1_new = []\n",
    "    p2_new = []\n",
    "    distance = 0\n",
    "    \n",
    "    for i in attributes:\n",
    "        p1_new.append(p1[i])\n",
    "        p2_new.append(p2[i])\n",
    "    \n",
    "    for i in range(len(p1_new)):\n",
    "        distance += (p1_new[i] - p2_new[i])**2\n",
    "        \n",
    "    return distance**0.5"
   ]
  },
  {
   "cell_type": "code",
   "execution_count": 22,
   "id": "549951e8",
   "metadata": {},
   "outputs": [],
   "source": [
    "def acc(classified,test):\n",
    "    correct = (test[:,0] == classified[:,0])\n",
    "    correct = np.count_nonzero(correct)\n",
    "    return correct/len(classified)"
   ]
  },
  {
   "cell_type": "code",
   "execution_count": 23,
   "id": "8227eb02",
   "metadata": {},
   "outputs": [],
   "source": [
    "def average(lst):\n",
    "    return sum(lst)/len(lst)"
   ]
  },
  {
   "cell_type": "code",
   "execution_count": 24,
   "id": "1d152278",
   "metadata": {},
   "outputs": [],
   "source": [
    "def get_mean(train, leaf_classes):\n",
    "    leaves_mean =[]\n",
    "    for c in leaf_classes:\n",
    "        leafLst = train[train[:,0] == c]\n",
    "        oneAtribute = leafLst[:, 0]\n",
    "        avgOneLeaf = []\n",
    "        for i in range(len(leafLst[0])):\n",
    "            oneAtribute = leafLst[:, i]\n",
    "            mean = average(oneAtribute)\n",
    "            avgOneLeaf.append(mean)\n",
    "        leaves_mean.append(avgOneLeaf)\n",
    "    return leaves_mean"
   ]
  },
  {
   "cell_type": "code",
   "execution_count": 25,
   "id": "52316f25",
   "metadata": {},
   "outputs": [],
   "source": [
    "def chooseClass(classes):\n",
    "    for i in range(len(classes)):\n",
    "        if i == 0:\n",
    "            new_train = np.array(train[train[:,0] == classes[i]])\n",
    "            new_test = np.array(test[test[:,0] == classes[i]])\n",
    "        else:\n",
    "            new_train = np.vstack((new_train,train[train[:,0] == classes[i]]))\n",
    "            new_test = np.vstack((new_test,test[test[:,0] == classes[i]]))\n",
    "    return new_train, new_test"
   ]
  },
  {
   "cell_type": "code",
   "execution_count": 26,
   "id": "ef19472b",
   "metadata": {},
   "outputs": [],
   "source": [
    "def NM(test, attributes, means):\n",
    "    classified = np.copy(test)\n",
    "    for te in range(len(test)):\n",
    "        nearest = 100\n",
    "        for i in range(len(means)):\n",
    "            distance = edist(test[te], means[i], attributes)\n",
    "            if distance < nearest:\n",
    "                nearest = distance\n",
    "                classified[te][0] = means[i][0] \n",
    "    return classified"
   ]
  },
  {
   "cell_type": "code",
   "execution_count": 28,
   "id": "c1c0acc0",
   "metadata": {},
   "outputs": [],
   "source": [
    "def my_plot(attributes, classes, c_train, c_test):\n",
    "    plt.rcParams[\"figure.figsize\"] = (10,10)\n",
    "    plt.figure()\n",
    "    plt.title(\"Próbki\")\n",
    "    plt.xlabel(attributes[0])\n",
    "    plt.ylabel(attributes[1])\n",
    "\n",
    "    class_name ={1:'Quercus suber',\n",
    "                 2:'Salix atrocinera',\n",
    "                 3: 'Populus nigra',\n",
    "                 4: 'Alnus sp.',\n",
    "                 5: 'Quercus robur',\n",
    "                 6:'Crataegus monogyna',\n",
    "                 7:'Ilex aquifolium',\n",
    "                 8: 'Nerium oleander',\n",
    "                 9:'Betula pubescens',\n",
    "                 10:'Tilia tomentosa',\n",
    "                 11:'Acer palmatum',\n",
    "                 12:'Celtis sp.',\n",
    "                 13:'Corylus avellana',\n",
    "                 14:'Castanea sativa',\n",
    "                 15:'Populus alba',\n",
    "                 16:'Acer negundo',\n",
    "                 17:'Taxus bacatta',\n",
    "                 18:'Papaver sp.',\n",
    "                 19:'Polypolium vulgare',\n",
    "                 20:'Pinus sp.'\n",
    "                } \n",
    "\n",
    "    for cl in classes:\n",
    "        random.seed(cl)\n",
    "        color = (random.randint(0,80)/100,random.randint(0,80)/100,random.randint(0,80)/100)\n",
    "        plt.scatter(x=c_train[c_train[:,0] == cl][:,attributes[0]],\n",
    "                    y=c_train[c_train[:,0] == cl][:,attributes[1]],\n",
    "                    label='Train class: '+class_name[cl],\n",
    "                    marker = '.',\n",
    "                    c=color,\n",
    "                    alpha=0.8\n",
    "                   )\n",
    "    \n",
    "    for cl in classes:\n",
    "        random.seed(cl)\n",
    "        color = (random.randint(0,80)/100,random.randint(0,80)/100,random.randint(0,80)/100)\n",
    "        plt.scatter(x=c_test[c_test[:,0] == cl][:,attributes[0]],\n",
    "                    y=c_test[c_test[:,0] == cl][:,attributes[1]],\n",
    "                    label='Pred class: '+class_name[cl],\n",
    "                    marker='o',\n",
    "                    c=color,\n",
    "                    alpha=0.2\n",
    "                    )\n",
    "        \n",
    "    plt.legend()\n",
    "    plt.show()"
   ]
  },
  {
   "cell_type": "code",
   "execution_count": 32,
   "id": "75b6a2d1",
   "metadata": {},
   "outputs": [
    {
     "name": "stdout",
     "output_type": "stream",
     "text": [
      "Accuracy:  1.0\n"
     ]
    },
    {
     "data": {
      "image/png": "[encoded data removed]",
      "text/plain": [
       "<Figure size 720x720 with 1 Axes>"
      ]
     },
     "metadata": {
      "needs_background": "light"
     },
     "output_type": "display_data"
    }
   ],
   "source": [
    "attributes = [4,8]\n",
    "leaf_classes = [5,4]\n",
    "train_new, test_new = chooseClass(leaf_classes)\n",
    "means = get_mean(train_new, leaf_classes)\n",
    "classified = NM(test_new,attributes,means)\n",
    "accuracy = acc(classified, test_new)\n",
    "print('Accuracy: ', accuracy)\n",
    "my_plot(attributes, leaf_classes, train_new, classified)"
   ]
  },
  {
   "cell_type": "code",
   "execution_count": null,
   "id": "c8b5c2e8",
   "metadata": {},
   "outputs": [],
   "source": []
  }
 ],
 "metadata": {
  "author": {
   "email": "robert.susik@p.lodz.pl",
   "name": "Robert Susik"
  },
  "kernelspec": {
   "display_name": "Python 3 (ipykernel)",
   "language": "python",
   "name": "python3"
  },
  "language_info": {
   "codemirror_mode": {
    "name": "ipython",
    "version": 3
   },
   "file_extension": ".py",
   "mimetype": "text/x-python",
   "name": "python",
   "nbconvert_exporter": "python",
   "pygments_lexer": "ipython3",
   "version": "3.7.8"
  },
  "toc": {
   "base_numbering": 1,
   "nav_menu": {},
   "number_sections": true,
   "sideBar": true,
   "skip_h1_title": false,
   "title_cell": "Table of Contents",
   "title_sidebar": "Contents",
   "toc_cell": false,
   "toc_position": {},
   "toc_section_display": true,
   "toc_window_display": false
  }
 },
 "nbformat": 4,
 "nbformat_minor": 5
}
